{
 "cells": [
  {
   "cell_type": "code",
   "execution_count": 14,
   "metadata": {},
   "outputs": [],
   "source": [
    "import pandas as pd \n",
    "import csv \n",
    "import numpy as np"
   ]
  },
  {
   "cell_type": "code",
   "execution_count": 15,
   "metadata": {},
   "outputs": [],
   "source": [
    "#website for the data is https://www.kaggle.com/sobhanmoosavi/us-accidents\n",
    "#original source file is not stored in the repo because it is too large\n",
    "file = \"../resource/US_Accidents_Dec19.csv\"\n",
    "df = pd.read_csv(file)"
   ]
  },
  {
   "cell_type": "code",
   "execution_count": 32,
   "metadata": {},
   "outputs": [
    {
     "output_type": "stream",
     "name": "stdout",
     "text": "ID\nSource\nTMC\nSeverity\nStart_Time\nEnd_Time\nStart_Lat\nStart_Lng\nEnd_Lat\nEnd_Lng\nDistance(mi)\nDescription\nNumber\nStreet\nSide\nCity\nCounty\nState\nZipcode\nCountry\nTimezone\nAirport_Code\nWeather_Timestamp\nTemperature(F)\nWind_Chill(F)\nHumidity(%)\nPressure(in)\nVisibility(mi)\nWind_Direction\nWind_Speed(mph)\nPrecipitation(in)\nWeather_Condition\nAmenity\nBump\nCrossing\nGive_Way\nJunction\nNo_Exit\nRailway\nRoundabout\nStation\nStop\nTraffic_Calming\nTraffic_Signal\nTurning_Loop\nSunrise_Sunset\nCivil_Twilight\nNautical_Twilight\nAstronomical_Twilight\n"
    }
   ],
   "source": [
    "for col in df.columns:\n",
    "    print(col)"
   ]
  },
  {
   "cell_type": "code",
   "execution_count": 113,
   "metadata": {},
   "outputs": [],
   "source": [
    "mainColumns = [\"ID\", \"Severity\", \"Start_Time\", \"End_Time\", \"Start_Lat\", \"Start_Lng\", \n",
    "\"City\", \"State\", \"Temperature(F)\", \"Humidity(%)\", \"Visibility(mi)\", \"Wind_Speed(mph)\", \"Weather_Condition\"]\n",
    "main_df = df[mainColumns]"
   ]
  },
  {
   "cell_type": "code",
   "execution_count": 114,
   "metadata": {},
   "outputs": [
    {
     "output_type": "execute_result",
     "data": {
      "text/plain": "ID                   2508775\nSeverity             2508775\nStart_Time           2508775\nEnd_Time             2508775\nStart_Lat            2508775\nStart_Lng            2508775\nCity                 2508775\nState                2508775\nTemperature(F)       2508775\nHumidity(%)          2508775\nVisibility(mi)       2508775\nWind_Speed(mph)      2508775\nWeather_Condition    2508775\ndtype: int64"
     },
     "metadata": {},
     "execution_count": 114
    }
   ],
   "source": [
    "cleaned_df = main_df.dropna()\n",
    "cleaned_df.count()"
   ]
  },
  {
   "cell_type": "code",
   "execution_count": 156,
   "metadata": {},
   "outputs": [],
   "source": [
    "#test block \n",
    "weather_df2 = cleaned_df"
   ]
  },
  {
   "cell_type": "code",
   "execution_count": 157,
   "metadata": {},
   "outputs": [
    {
     "output_type": "execute_result",
     "data": {
      "text/plain": "ID                   2508775\nSeverity             2508775\nStart_Time           2508775\nEnd_Time             2508775\nStart_Lat            2508775\nStart_Lng            2508775\nCity                 2508775\nState                2508775\nTemperature(F)       2508775\nHumidity(%)          2508775\nVisibility(mi)       2508775\nWind_Speed(mph)      2508775\nWeather_Condition    2508775\ndtype: int64"
     },
     "metadata": {},
     "execution_count": 157
    }
   ],
   "source": [
    "weather_df2.count()"
   ]
  },
  {
   "cell_type": "code",
   "execution_count": 115,
   "metadata": {},
   "outputs": [],
   "source": [
    "weatherColumns = [\"ID\", \"Temperature(F)\", \"Humidity(%)\", \"Visibility(mi)\", \"Wind_Speed(mph)\", \"Weather_Condition\"]\n",
    "accidentsColumns = [\"ID\", \"Severity\", \"Start_Time\", \"End_Time\", \"Start_Lat\", \"Start_Lng\", \n",
    "\"City\", \"State\"]\n",
    "weather_df = cleaned_df[weatherColumns]\n",
    "accident_df = cleaned_df[accidentsColumns]"
   ]
  },
  {
   "cell_type": "code",
   "execution_count": 116,
   "metadata": {},
   "outputs": [
    {
     "output_type": "execute_result",
     "data": {
      "text/plain": "     Temperature(F)  Humidity(%)  Visibility(mi)  Wind_Speed(mph)  \\\nID                                                                  \nA-3            36.0        100.0            10.0              3.5   \nA-4            35.1         96.0             9.0              4.6   \nA-5            36.0         89.0             6.0              3.5   \nA-6            37.9         97.0             7.0              3.5   \nA-7            34.0        100.0             7.0              3.5   \n\n    Weather_Condition  \nID                     \nA-3          Overcast  \nA-4     Mostly Cloudy  \nA-5     Mostly Cloudy  \nA-6        Light Rain  \nA-7          Overcast  ",
      "text/html": "<div>\n<style scoped>\n    .dataframe tbody tr th:only-of-type {\n        vertical-align: middle;\n    }\n\n    .dataframe tbody tr th {\n        vertical-align: top;\n    }\n\n    .dataframe thead th {\n        text-align: right;\n    }\n</style>\n<table border=\"1\" class=\"dataframe\">\n  <thead>\n    <tr style=\"text-align: right;\">\n      <th></th>\n      <th>Temperature(F)</th>\n      <th>Humidity(%)</th>\n      <th>Visibility(mi)</th>\n      <th>Wind_Speed(mph)</th>\n      <th>Weather_Condition</th>\n    </tr>\n    <tr>\n      <th>ID</th>\n      <th></th>\n      <th></th>\n      <th></th>\n      <th></th>\n      <th></th>\n    </tr>\n  </thead>\n  <tbody>\n    <tr>\n      <th>A-3</th>\n      <td>36.0</td>\n      <td>100.0</td>\n      <td>10.0</td>\n      <td>3.5</td>\n      <td>Overcast</td>\n    </tr>\n    <tr>\n      <th>A-4</th>\n      <td>35.1</td>\n      <td>96.0</td>\n      <td>9.0</td>\n      <td>4.6</td>\n      <td>Mostly Cloudy</td>\n    </tr>\n    <tr>\n      <th>A-5</th>\n      <td>36.0</td>\n      <td>89.0</td>\n      <td>6.0</td>\n      <td>3.5</td>\n      <td>Mostly Cloudy</td>\n    </tr>\n    <tr>\n      <th>A-6</th>\n      <td>37.9</td>\n      <td>97.0</td>\n      <td>7.0</td>\n      <td>3.5</td>\n      <td>Light Rain</td>\n    </tr>\n    <tr>\n      <th>A-7</th>\n      <td>34.0</td>\n      <td>100.0</td>\n      <td>7.0</td>\n      <td>3.5</td>\n      <td>Overcast</td>\n    </tr>\n  </tbody>\n</table>\n</div>"
     },
     "metadata": {},
     "execution_count": 116
    }
   ],
   "source": [
    "weather_df = weather_df.set_index(\"ID\")\n",
    "weather_df.head()"
   ]
  },
  {
   "cell_type": "code",
   "execution_count": 117,
   "metadata": {},
   "outputs": [
    {
     "output_type": "execute_result",
     "data": {
      "text/plain": "117"
     },
     "metadata": {},
     "execution_count": 117
    }
   ],
   "source": [
    "weather_conditions = weather_df['Weather_Condition'].unique()\n",
    "len(weather_conditions)\n"
   ]
  },
  {
   "cell_type": "code",
   "execution_count": 134,
   "metadata": {},
   "outputs": [],
   "source": [
    "weather_df2 = weather_df"
   ]
  },
  {
   "cell_type": "code",
   "execution_count": 161,
   "metadata": {
    "tags": [
     "outputPrepend"
    ]
   },
   "outputs": [],
   "source": [
    "weather_df2[\"Weather_Condition\"] = weather_df2[\"Weather_Condition\"].replace(\"Fair\", \"Clear\")\n",
    "weather_df2[\"Weather_Condition\"] = weather_df2[\"Weather_Condition\"].replace(\"Fair / Windy\", \"Clear\")\n",
    "weather_df2[\"Weather_Condition\"] = weather_df2[\"Weather_Condition\"].replace(\"N/A Precipitation\", \"Clear\")\n",
    "\n",
    "weather_df2[\"Weather_Condition\"] = weather_df2[\"Weather_Condition\"].replace(\"Light Haze\", \"Haze\")\n",
    "weather_df2[\"Weather_Condition\"] = weather_df2[\"Weather_Condition\"].replace(\"Smoke\", \"Haze\")\n",
    "weather_df2[\"Weather_Condition\"] = weather_df2[\"Weather_Condition\"].replace(\"Blowing Sand\", \"Haze\")\n",
    "weather_df2[\"Weather_Condition\"] = weather_df2[\"Weather_Condition\"].replace(\"Blowing Sand / Windy\", \"Haze\")\n",
    "weather_df2[\"Weather_Condition\"] = weather_df2[\"Weather_Condition\"].replace(\"Widespread Dust\", \"Haze\")\n",
    "\n",
    "weather_df2[\"Weather_Condition\"] = weather_df2[\"Weather_Condition\"].replace(\"Light Snow\", \"Snow\")\n",
    "weather_df2[\"Weather_Condition\"] = weather_df2[\"Weather_Condition\"].replace(\"Blowing Snow\", \"Snow\")\n",
    "weather_df2[\"Weather_Condition\"] = weather_df2[\"Weather_Condition\"].replace(\"Heavy Snow\", \"Snow\")\n",
    "weather_df2[\"Weather_Condition\"] = weather_df2[\"Weather_Condition\"].replace(\"Low Drifting Snow\", \"Snow\")\n",
    "weather_df2[\"Weather_Condition\"] = weather_df2[\"Weather_Condition\"].replace(\"Snow / Windy\", \"Snow\")\n",
    "weather_df2[\"Weather_Condition\"] = weather_df2[\"Weather_Condition\"].replace(\"Snow and Sleet\", \"Snow\")\n",
    "weather_df2[\"Weather_Condition\"] = weather_df2[\"Weather_Condition\"].replace(\"Sleet\", \"Snow\")\n",
    "weather_df2[\"Weather_Condition\"] = weather_df2[\"Weather_Condition\"].replace(\"Snow Showers\", \"Snow\")\n",
    "weather_df2[\"Weather_Condition\"] = weather_df2[\"Weather_Condition\"].replace(\"Light Sleet\", \"Snow\")\n",
    "weather_df2[\"Weather_Condition\"] = weather_df2[\"Weather_Condition\"].replace(\"Heavy Sleet\", \"Snow\")\n",
    "weather_df2[\"Weather_Condition\"] = weather_df2[\"Weather_Condition\"].replace(\"Wintry Mix / Windy\", \"Snow\")\n",
    "weather_df2[\"Weather_Condition\"] = weather_df2[\"Weather_Condition\"].replace(\"Light Snow Shower\", \"Snow\")\n",
    "weather_df2[\"Weather_Condition\"] = weather_df2[\"Weather_Condition\"].replace(\"Heavy Snow / Windy\", \"Snow\")\n",
    "weather_df2[\"Weather_Condition\"] = weather_df2[\"Weather_Condition\"].replace(\"Light Snow and Sleet\", \"Snow\")\n",
    "weather_df2[\"Weather_Condition\"] = weather_df2[\"Weather_Condition\"].replace(\"Light Snow Grains\", \"Snow\")\n",
    "weather_df2[\"Weather_Condition\"] = weather_df2[\"Weather_Condition\"].replace(\"Squalls / Windy\", \"Snow\")\n",
    "weather_df2[\"Weather_Condition\"] = weather_df2[\"Weather_Condition\"].replace(\"Squalls\", \"Snow\")\n",
    "weather_df2[\"Weather_Condition\"] = weather_df2[\"Weather_Condition\"].replace(\"Light Snow with Thunder\", \"Snow\")\n",
    "weather_df2[\"Weather_Condition\"] = weather_df2[\"Weather_Condition\"].replace(\"Blowing Snow / Windy\", \"Snow\")\n",
    "weather_df2[\"Weather_Condition\"] = weather_df2[\"Weather_Condition\"].replace(\"Light Snow and Sleet / Windy\", \"Snow\")\n",
    "weather_df2[\"Weather_Condition\"] = weather_df2[\"Weather_Condition\"].replace(\"Snow and Thunder\", \"Snow\")\n",
    "weather_df2[\"Weather_Condition\"] = weather_df2[\"Weather_Condition\"].replace(\"Snow and Sleet / Windy\", \"Snow\")\n",
    "weather_df2[\"Weather_Condition\"] = weather_df2[\"Weather_Condition\"].replace(\"Heavy Snow with Thunder\", \"Snow\")\n",
    "weather_df2[\"Weather_Condition\"] = weather_df2[\"Weather_Condition\"].replace(\"Thunder / Wintry Mix / Windy\", \"Snow\")\n",
    "weather_df2[\"Weather_Condition\"] = weather_df2[\"Weather_Condition\"].replace(\"Light Snow Showers\", \"Snow\")\n",
    "weather_df2[\"Weather_Condition\"] = weather_df2[\"Weather_Condition\"].replace(\"Heavy Blowing Snow\", \"Snow\")\n",
    "weather_df2[\"Weather_Condition\"] = weather_df2[\"Weather_Condition\"].replace(\"Light Blowing Snow\", \"Snow\")\n",
    "weather_df2[\"Weather_Condition\"] = weather_df2[\"Weather_Condition\"].replace(\"Thunderstorms and Snow\", \"Snow\")\n",
    "weather_df2[\"Weather_Condition\"] = weather_df2[\"Weather_Condition\"].replace(\"Wintry Mix\", \"Snow\")\n",
    "weather_df2[\"Weather_Condition\"] = weather_df2[\"Weather_Condition\"].replace(\"Snow Grains\", \"Snow\")\n",
    "weather_df2[\"Weather_Condition\"] = weather_df2[\"Weather_Condition\"].replace(\"Light Snow / Windy\", \"Snow\")\n",
    "\n",
    "weather_df2[\"Weather_Condition\"] = weather_df2[\"Weather_Condition\"].replace(\"Light Rain\", \"Rain\")\n",
    "weather_df2[\"Weather_Condition\"] = weather_df2[\"Weather_Condition\"].replace(\"Light Drizzle\", \"Rain\")\n",
    "weather_df2[\"Weather_Condition\"] = weather_df2[\"Weather_Condition\"].replace(\"Light Showers\", \"Rain\")\n",
    "weather_df2[\"Weather_Condition\"] = weather_df2[\"Weather_Condition\"].replace(\"Drizzle\", \"Rain\")\n",
    "weather_df2[\"Weather_Condition\"] = weather_df2[\"Weather_Condition\"].replace(\"Heavy Drizzle\", \"Rain\")\n",
    "weather_df2[\"Weather_Condition\"] = weather_df2[\"Weather_Condition\"].replace(\"Light Rain / Windy\", \"Rain\")\n",
    "weather_df2[\"Weather_Condition\"] = weather_df2[\"Weather_Condition\"].replace(\"Rain Showers\", \"Rain\")\n",
    "weather_df2[\"Weather_Condition\"] = weather_df2[\"Weather_Condition\"].replace(\"Light Thunderstorm and Rain\", \"Rain\")\n",
    "weather_df2[\"Weather_Condition\"] = weather_df2[\"Weather_Condition\"].replace(\"Showers in the Vicinity\", \"Rain\")\n",
    "weather_df2[\"Weather_Condition\"] = weather_df2[\"Weather_Condition\"].replace(\"Light Rain Shower\", \"Rain\")\n",
    "weather_df2[\"Weather_Condition\"] = weather_df2[\"Weather_Condition\"].replace(\"Light Rain with Thunder\", \"Rain\")\n",
    "weather_df2[\"Weather_Condition\"] = weather_df2[\"Weather_Condition\"].replace(\"Drizzle and Fog\", \"Rain\")\n",
    "weather_df2[\"Weather_Condition\"] = weather_df2[\"Weather_Condition\"].replace(\"Light Rain Showers\", \"Rain\")\n",
    "weather_df2[\"Weather_Condition\"] = weather_df2[\"Weather_Condition\"].replace(\"Rain / Windy\", \"Rain\")\n",
    "weather_df2[\"Weather_Condition\"] = weather_df2[\"Weather_Condition\"].replace(\"Heavy Rain Showers\", \"Rain\")\n",
    "weather_df2[\"Weather_Condition\"] = weather_df2[\"Weather_Condition\"].replace(\"Light Drizzle / Windy\", \"Rain\")\n",
    "weather_df2[\"Weather_Condition\"] = weather_df2[\"Weather_Condition\"].replace(\"Light Rain Shower / Windy\", \"Rain\")\n",
    "weather_df2[\"Weather_Condition\"] = weather_df2[\"Weather_Condition\"].replace(\"Drizzle / Windy\", \"Rain\")\n",
    "weather_df2[\"Weather_Condition\"] = weather_df2[\"Weather_Condition\"].replace(\"Rain Shower\", \"Rain\")\n",
    "\n",
    "weather_df2[\"Weather_Condition\"] = weather_df2[\"Weather_Condition\"].replace(\"Shallow Fog\", \"Fog\")\n",
    "weather_df2[\"Weather_Condition\"] = weather_df2[\"Weather_Condition\"].replace(\"Patches of Fog\", \"Fog\")\n",
    "weather_df2[\"Weather_Condition\"] = weather_df2[\"Weather_Condition\"].replace(\"Light Freezing Fog\", \"Fog\")\n",
    "weather_df2[\"Weather_Condition\"] = weather_df2[\"Weather_Condition\"].replace(\"Mist\", \"Fog\")\n",
    "weather_df2[\"Weather_Condition\"] = weather_df2[\"Weather_Condition\"].replace(\"Blowing Dust / Windy\", \"Fog\")\n",
    "weather_df2[\"Weather_Condition\"] = weather_df2[\"Weather_Condition\"].replace(\"Light Fog\", \"Fog\")\n",
    "weather_df2[\"Weather_Condition\"] = weather_df2[\"Weather_Condition\"].replace(\"Fog / Windy\", \"Fog\")\n",
    "weather_df2[\"Weather_Condition\"] = weather_df2[\"Weather_Condition\"].replace(\"Haze / Windy\", \"Fog\")\n",
    "weather_df2[\"Weather_Condition\"] = weather_df2[\"Weather_Condition\"].replace(\"Sand / Dust Whirlwinds\", \"Fog\")\n",
    "weather_df2[\"Weather_Condition\"] = weather_df2[\"Weather_Condition\"].replace(\"Blowing Dust\", \"Fog\")\n",
    "weather_df2[\"Weather_Condition\"] = weather_df2[\"Weather_Condition\"].replace(\"Partial Fog / Windy\", \"Fog\")\n",
    "weather_df2[\"Weather_Condition\"] = weather_df2[\"Weather_Condition\"].replace(\"Partial Fog\", \"Fog\")\n",
    "weather_df2[\"Weather_Condition\"] = weather_df2[\"Weather_Condition\"].replace(\"Widespread Dust / Windy\", \"Fog\")\n",
    "weather_df2[\"Weather_Condition\"] = weather_df2[\"Weather_Condition\"].replace(\"Sand / Dust Whirlwinds / Windy\", \"Fog\")\n",
    "weather_df2[\"Weather_Condition\"] = weather_df2[\"Weather_Condition\"].replace(\"Smoke / Windy\", \"Fog\")\n",
    "weather_df2[\"Weather_Condition\"] = weather_df2[\"Weather_Condition\"].replace(\"Dust Whirls\", \"Fog\")\n",
    "\n",
    "weather_df2[\"Weather_Condition\"] = weather_df2[\"Weather_Condition\"].replace(\"Mostly Cloudy\", \"Overcast\")\n",
    "weather_df2[\"Weather_Condition\"] = weather_df2[\"Weather_Condition\"].replace(\"Scattered Clouds\", \"Overcast\")\n",
    "weather_df2[\"Weather_Condition\"] = weather_df2[\"Weather_Condition\"].replace(\"Partly Cloudy\", \"Overcast\")\n",
    "weather_df2[\"Weather_Condition\"] = weather_df2[\"Weather_Condition\"].replace(\"Cloudy\", \"Overcast\")\n",
    "weather_df2[\"Weather_Condition\"] = weather_df2[\"Weather_Condition\"].replace(\"Mostly Cloudy / Windy\", \"Overcast\")\n",
    "weather_df2[\"Weather_Condition\"] = weather_df2[\"Weather_Condition\"].replace(\"Partly Cloudy / Windy\", \"Overcast\")\n",
    "weather_df2[\"Weather_Condition\"] = weather_df2[\"Weather_Condition\"].replace(\"Funnel Cloud\", \"Overcast\")\n",
    "weather_df2[\"Weather_Condition\"] = weather_df2[\"Weather_Condition\"].replace(\"Cloudy / Windy\", \"Overcast\")\n",
    "\n",
    "weather_df2[\"Weather_Condition\"] = weather_df2[\"Weather_Condition\"].replace(\"Light Freezing Drizzle\", \"Freezing Rain\")\n",
    "weather_df2[\"Weather_Condition\"] = weather_df2[\"Weather_Condition\"].replace(\"Light Freezing Rain\", \"Freezing Rain\")\n",
    "weather_df2[\"Weather_Condition\"] = weather_df2[\"Weather_Condition\"].replace(\"Heavy Freezing Rain\", \"Freezing Rain\")\n",
    "weather_df2[\"Weather_Condition\"] = weather_df2[\"Weather_Condition\"].replace(\"Light Freezing Rain / Windy\", \"Freezing Rain\")\n",
    "weather_df2[\"Weather_Condition\"] = weather_df2[\"Weather_Condition\"].replace(\"Heavy Freezing Drizzle\", \"Freezing Rain\")\n",
    "weather_df2[\"Weather_Condition\"] = weather_df2[\"Weather_Condition\"].replace(\"Freezing Rain / Windy\", \"Freezing Rain\")\n",
    "\n",
    "weather_df2[\"Weather_Condition\"] = weather_df2[\"Weather_Condition\"].replace(\"Light Ice Pellets\", \"Hail\")\n",
    "weather_df2[\"Weather_Condition\"] = weather_df2[\"Weather_Condition\"].replace(\"Ice Pellets\", \"Hail\")\n",
    "weather_df2[\"Weather_Condition\"] = weather_df2[\"Weather_Condition\"].replace(\"Heavy Ice Pellets\", \"Hail\")\n",
    "weather_df2[\"Weather_Condition\"] = weather_df2[\"Weather_Condition\"].replace(\"Small Hail\", \"Hail\")\n",
    "weather_df2[\"Weather_Condition\"] = weather_df2[\"Weather_Condition\"].replace(\"Light Hail\", \"Hail\")\n",
    "\n",
    "weather_df2[\"Weather_Condition\"] = weather_df2[\"Weather_Condition\"].replace(\"Thunderstorm and Rain\", \"Thunderstorm\")\n",
    "weather_df2[\"Weather_Condition\"] = weather_df2[\"Weather_Condition\"].replace(\"Heavy Rain\", \"Thunderstorm\")\n",
    "weather_df2[\"Weather_Condition\"] = weather_df2[\"Weather_Condition\"].replace(\"Light Thunderstorms and Rain\", \"Thunderstorm\")\n",
    "weather_df2[\"Weather_Condition\"] = weather_df2[\"Weather_Condition\"].replace(\"Thunderstorms and Rain\", \"Thunderstorm\")\n",
    "weather_df2[\"Weather_Condition\"] = weather_df2[\"Weather_Condition\"].replace(\"Thunder in the Vicinity\", \"Thunderstorm\")\n",
    "weather_df2[\"Weather_Condition\"] = weather_df2[\"Weather_Condition\"].replace(\"T-Storm\", \"Thunderstorm\")\n",
    "weather_df2[\"Weather_Condition\"] = weather_df2[\"Weather_Condition\"].replace(\"Heavy Thunderstorms and Rain\", \"Thunderstorm\")\n",
    "weather_df2[\"Weather_Condition\"] = weather_df2[\"Weather_Condition\"].replace(\"Thunder\", \"Thunderstorm\")\n",
    "weather_df2[\"Weather_Condition\"] = weather_df2[\"Weather_Condition\"].replace(\"Heavy T-Storm\", \"Thunderstorm\")\n",
    "weather_df2[\"Weather_Condition\"] = weather_df2[\"Weather_Condition\"].replace(\"Heavy T-Storm / Windy\", \"Thunderstorm\")\n",
    "weather_df2[\"Weather_Condition\"] = weather_df2[\"Weather_Condition\"].replace(\"Light Thunderstorms and Snow\", \"Thunderstorm\")\n",
    "weather_df2[\"Weather_Condition\"] = weather_df2[\"Weather_Condition\"].replace(\"Heavy Thunderstorms and Snow\", \"Thunderstorm\")\n",
    "weather_df2[\"Weather_Condition\"] = weather_df2[\"Weather_Condition\"].replace(\"T-Storm / Windy\", \"Thunderstorm\")\n",
    "weather_df2[\"Weather_Condition\"] = weather_df2[\"Weather_Condition\"].replace(\"Heavy Rain / Windy\", \"Thunderstorm\")\n",
    "weather_df2[\"Weather_Condition\"] = weather_df2[\"Weather_Condition\"].replace(\"Thunder / Windy\", \"Thunderstorm\")\n",
    "weather_df2[\"Weather_Condition\"] = weather_df2[\"Weather_Condition\"].replace(\"Heavy Thunderstorms with Small Hail\", \"Thunderstorm\")\n",
    "weather_df2[\"Weather_Condition\"] = weather_df2[\"Weather_Condition\"].replace(\"Light Thunderstorm\", \"Thunderstorm\")\n",
    "weather_df2[\"Weather_Condition\"] = weather_df2[\"Weather_Condition\"].replace(\"Thunder and Hail / Windy\", \"Thunderstorm\")\n"
   ]
  },
  {
   "cell_type": "code",
   "execution_count": 160,
   "metadata": {},
   "outputs": [
    {
     "output_type": "execute_result",
     "data": {
      "text/plain": "array(['Overcast', 'Rain', 'Snow', 'Haze', 'Clear', 'Freezing Rain',\n       'Fog', 'Thunderstorm', 'Hail', 'Squalls', 'Tornado'], dtype=object)"
     },
     "metadata": {},
     "execution_count": 160
    }
   ],
   "source": [
    "weather_conditions2"
   ]
  },
  {
   "cell_type": "code",
   "execution_count": 162,
   "metadata": {},
   "outputs": [
    {
     "output_type": "execute_result",
     "data": {
      "text/plain": "10"
     },
     "metadata": {},
     "execution_count": 162
    }
   ],
   "source": [
    "weather_conditions2 = weather_df2['Weather_Condition'].unique()\n",
    "len(weather_conditions2)"
   ]
  },
  {
   "cell_type": "code",
   "execution_count": 63,
   "metadata": {},
   "outputs": [
    {
     "output_type": "execute_result",
     "data": {
      "text/plain": "Empty DataFrame\nColumns: [Temperature(F), Humidity(%), Visibility(mi), Wind_Speed(mph), Weather_Condition]\nIndex: []",
      "text/html": "<div>\n<style scoped>\n    .dataframe tbody tr th:only-of-type {\n        vertical-align: middle;\n    }\n\n    .dataframe tbody tr th {\n        vertical-align: top;\n    }\n\n    .dataframe thead th {\n        text-align: right;\n    }\n</style>\n<table border=\"1\" class=\"dataframe\">\n  <thead>\n    <tr style=\"text-align: right;\">\n      <th></th>\n      <th>Temperature(F)</th>\n      <th>Humidity(%)</th>\n      <th>Visibility(mi)</th>\n      <th>Wind_Speed(mph)</th>\n      <th>Weather_Condition</th>\n    </tr>\n    <tr>\n      <th>ID</th>\n      <th></th>\n      <th></th>\n      <th></th>\n      <th></th>\n      <th></th>\n    </tr>\n  </thead>\n  <tbody>\n  </tbody>\n</table>\n</div>"
     },
     "metadata": {},
     "execution_count": 63
    }
   ],
   "source": [
    "weather_df.loc[weather_df[\"Weather_Condition\"]==\"Volcanic Ash\"]"
   ]
  },
  {
   "cell_type": "code",
   "execution_count": 9,
   "metadata": {},
   "outputs": [
    {
     "output_type": "stream",
     "name": "stdout",
     "text": "Temperature(F)       2888846\nHumidity(%)          2888846\nVisibility(mi)       2888846\nWeather_Condition    2888846\ndtype: int64\n"
    }
   ],
   "source": [
    "print(weather_df.count())\n",
    "weather_df.to_csv(\"../resource/weather/weatherdata_csv\")"
   ]
  },
  {
   "cell_type": "code",
   "execution_count": 165,
   "metadata": {},
   "outputs": [],
   "source": [
    "#test block\n",
    "states = weather_df2[\"State\"].unique()\n",
    "data_by_state = {\n",
    "    'state': [],\n",
    "    'data': []\n",
    "}\n",
    "for i in range(len(states)):\n",
    "    data_by_state['state'].append(states[i])\n",
    "    state_df = weather_df2.loc[df[\"State\"] == states[i]]\n",
    "    state_df = state_df.set_index('ID')\n",
    "    data_by_state['data'].append(state_df)\n",
    "    state_df.to_csv(f'../Test_Data/{states[i]}_accident.csv', encoding=\"utf-8\", index=True)"
   ]
  },
  {
   "cell_type": "code",
   "execution_count": null,
   "metadata": {},
   "outputs": [],
   "source": []
  },
  {
   "cell_type": "code",
   "execution_count": 57,
   "metadata": {},
   "outputs": [],
   "source": [
    "#accident_df_cleaned = accident_df.dropna()"
   ]
  },
  {
   "cell_type": "code",
   "execution_count": 58,
   "metadata": {},
   "outputs": [
    {
     "output_type": "execute_result",
     "data": {
      "text/plain": "ID                   2888846\nSeverity             2888846\nStart_Time           2888846\nEnd_Time             2888846\nStart_Lat            2888846\nStart_Lng            2888846\nCity                 2888846\nState                2888846\nTemperature(F)       2888846\nHumidity(%)          2888846\nVisibility(mi)       2888846\nWeather_Condition    2888846\ndtype: int64"
     },
     "metadata": {},
     "execution_count": 58
    }
   ],
   "source": [
    "#accident_df_cleaned.count()"
   ]
  },
  {
   "cell_type": "code",
   "execution_count": 59,
   "metadata": {},
   "outputs": [],
   "source": [
    "accident_df_cleaned_indexed = accident_df_cleaned.set_index('ID')"
   ]
  },
  {
   "cell_type": "code",
   "execution_count": 60,
   "metadata": {},
   "outputs": [
    {
     "output_type": "execute_result",
     "data": {
      "text/plain": "Severity             2888846\nStart_Time           2888846\nEnd_Time             2888846\nStart_Lat            2888846\nStart_Lng            2888846\nCity                 2888846\nState                2888846\nTemperature(F)       2888846\nHumidity(%)          2888846\nVisibility(mi)       2888846\nWeather_Condition    2888846\ndtype: int64"
     },
     "metadata": {},
     "execution_count": 60
    }
   ],
   "source": [
    "accident_df_cleaned_indexed.count()"
   ]
  },
  {
   "cell_type": "code",
   "execution_count": 35,
   "metadata": {},
   "outputs": [
    {
     "output_type": "execute_result",
     "data": {
      "text/plain": "'1'"
     },
     "metadata": {},
     "execution_count": 35
    }
   ],
   "source": [
    "#accident_df[\"ID\"][0].split(\"A-\")[1]"
   ]
  },
  {
   "cell_type": "code",
   "execution_count": 11,
   "metadata": {},
   "outputs": [],
   "source": [
    "states = accident_df[\"State\"].unique()\n",
    "data_by_state = {\n",
    "    'state': [],\n",
    "    'data': []\n",
    "}\n",
    "for i in range(len(states)):\n",
    "    data_by_state['state'].append(states[i])\n",
    "    state_df = accident_df.loc[df[\"State\"] == states[i]]\n",
    "    state_df = state_df.set_index('ID')\n",
    "    data_by_state['data'].append(state_df)\n",
    "    state_df.to_csv(f'../Resource/by_state/{states[i]}_accident.csv', encoding=\"utf-8\", index=True)\n",
    "\n",
    "\n"
   ]
  },
  {
   "cell_type": "code",
   "execution_count": 12,
   "metadata": {},
   "outputs": [
    {
     "output_type": "execute_result",
     "data": {
      "text/plain": "     Severity           Start_Time             End_Time  Start_Lat  Start_Lng  \\\nID                                                                              \nA-1         3  2016-02-08 05:46:00  2016-02-08 11:00:00  39.865147 -84.058723   \nA-2         2  2016-02-08 06:07:59  2016-02-08 06:37:59  39.928059 -82.831184   \nA-3         2  2016-02-08 06:49:27  2016-02-08 07:19:27  39.063148 -84.032608   \nA-4         3  2016-02-08 07:23:34  2016-02-08 07:53:34  39.747753 -84.205582   \nA-5         2  2016-02-08 07:39:07  2016-02-08 08:09:07  39.627781 -84.188354   \n\n             City State  \nID                       \nA-1        Dayton    OH  \nA-2  Reynoldsburg    OH  \nA-3  Williamsburg    OH  \nA-4        Dayton    OH  \nA-5        Dayton    OH  ",
      "text/html": "<div>\n<style scoped>\n    .dataframe tbody tr th:only-of-type {\n        vertical-align: middle;\n    }\n\n    .dataframe tbody tr th {\n        vertical-align: top;\n    }\n\n    .dataframe thead th {\n        text-align: right;\n    }\n</style>\n<table border=\"1\" class=\"dataframe\">\n  <thead>\n    <tr style=\"text-align: right;\">\n      <th></th>\n      <th>Severity</th>\n      <th>Start_Time</th>\n      <th>End_Time</th>\n      <th>Start_Lat</th>\n      <th>Start_Lng</th>\n      <th>City</th>\n      <th>State</th>\n    </tr>\n    <tr>\n      <th>ID</th>\n      <th></th>\n      <th></th>\n      <th></th>\n      <th></th>\n      <th></th>\n      <th></th>\n      <th></th>\n    </tr>\n  </thead>\n  <tbody>\n    <tr>\n      <th>A-1</th>\n      <td>3</td>\n      <td>2016-02-08 05:46:00</td>\n      <td>2016-02-08 11:00:00</td>\n      <td>39.865147</td>\n      <td>-84.058723</td>\n      <td>Dayton</td>\n      <td>OH</td>\n    </tr>\n    <tr>\n      <th>A-2</th>\n      <td>2</td>\n      <td>2016-02-08 06:07:59</td>\n      <td>2016-02-08 06:37:59</td>\n      <td>39.928059</td>\n      <td>-82.831184</td>\n      <td>Reynoldsburg</td>\n      <td>OH</td>\n    </tr>\n    <tr>\n      <th>A-3</th>\n      <td>2</td>\n      <td>2016-02-08 06:49:27</td>\n      <td>2016-02-08 07:19:27</td>\n      <td>39.063148</td>\n      <td>-84.032608</td>\n      <td>Williamsburg</td>\n      <td>OH</td>\n    </tr>\n    <tr>\n      <th>A-4</th>\n      <td>3</td>\n      <td>2016-02-08 07:23:34</td>\n      <td>2016-02-08 07:53:34</td>\n      <td>39.747753</td>\n      <td>-84.205582</td>\n      <td>Dayton</td>\n      <td>OH</td>\n    </tr>\n    <tr>\n      <th>A-5</th>\n      <td>2</td>\n      <td>2016-02-08 07:39:07</td>\n      <td>2016-02-08 08:09:07</td>\n      <td>39.627781</td>\n      <td>-84.188354</td>\n      <td>Dayton</td>\n      <td>OH</td>\n    </tr>\n  </tbody>\n</table>\n</div>"
     },
     "metadata": {},
     "execution_count": 12
    }
   ],
   "source": [
    "data_by_state['data'][0].head()"
   ]
  },
  {
   "cell_type": "code",
   "execution_count": 87,
   "metadata": {},
   "outputs": [],
   "source": [
    "for index, item in enumerate(states):\n",
    "    if item == 'SD':\n",
    "        location = index"
   ]
  },
  {
   "cell_type": "code",
   "execution_count": 88,
   "metadata": {},
   "outputs": [
    {
     "output_type": "execute_result",
     "data": {
      "text/plain": "48"
     },
     "metadata": {},
     "execution_count": 88
    }
   ],
   "source": [
    "location"
   ]
  },
  {
   "cell_type": "code",
   "execution_count": 62,
   "metadata": {},
   "outputs": [],
   "source": [
    "\n",
    "accident_df_OH = accident_df_cleaned.loc[df[\"State\"] == \"OH\"]"
   ]
  },
  {
   "cell_type": "code",
   "execution_count": 63,
   "metadata": {},
   "outputs": [
    {
     "output_type": "execute_result",
     "data": {
      "text/plain": "     Severity           Start_Time             End_Time  Start_Lat  Start_Lng  \\\nID                                                                              \nA-1         3  2016-02-08 05:46:00  2016-02-08 11:00:00  39.865147 -84.058723   \nA-2         2  2016-02-08 06:07:59  2016-02-08 06:37:59  39.928059 -82.831184   \nA-3         2  2016-02-08 06:49:27  2016-02-08 07:19:27  39.063148 -84.032608   \nA-4         3  2016-02-08 07:23:34  2016-02-08 07:53:34  39.747753 -84.205582   \nA-5         2  2016-02-08 07:39:07  2016-02-08 08:09:07  39.627781 -84.188354   \n\n             City State  Temperature(F)  Humidity(%)  Visibility(mi)  \\\nID                                                                     \nA-1        Dayton    OH            36.9         91.0            10.0   \nA-2  Reynoldsburg    OH            37.9        100.0            10.0   \nA-3  Williamsburg    OH            36.0        100.0            10.0   \nA-4        Dayton    OH            35.1         96.0             9.0   \nA-5        Dayton    OH            36.0         89.0             6.0   \n\n    Weather_Condition  \nID                     \nA-1        Light Rain  \nA-2        Light Rain  \nA-3          Overcast  \nA-4     Mostly Cloudy  \nA-5     Mostly Cloudy  ",
      "text/html": "<div>\n<style scoped>\n    .dataframe tbody tr th:only-of-type {\n        vertical-align: middle;\n    }\n\n    .dataframe tbody tr th {\n        vertical-align: top;\n    }\n\n    .dataframe thead th {\n        text-align: right;\n    }\n</style>\n<table border=\"1\" class=\"dataframe\">\n  <thead>\n    <tr style=\"text-align: right;\">\n      <th></th>\n      <th>Severity</th>\n      <th>Start_Time</th>\n      <th>End_Time</th>\n      <th>Start_Lat</th>\n      <th>Start_Lng</th>\n      <th>City</th>\n      <th>State</th>\n      <th>Temperature(F)</th>\n      <th>Humidity(%)</th>\n      <th>Visibility(mi)</th>\n      <th>Weather_Condition</th>\n    </tr>\n    <tr>\n      <th>ID</th>\n      <th></th>\n      <th></th>\n      <th></th>\n      <th></th>\n      <th></th>\n      <th></th>\n      <th></th>\n      <th></th>\n      <th></th>\n      <th></th>\n      <th></th>\n    </tr>\n  </thead>\n  <tbody>\n    <tr>\n      <th>A-1</th>\n      <td>3</td>\n      <td>2016-02-08 05:46:00</td>\n      <td>2016-02-08 11:00:00</td>\n      <td>39.865147</td>\n      <td>-84.058723</td>\n      <td>Dayton</td>\n      <td>OH</td>\n      <td>36.9</td>\n      <td>91.0</td>\n      <td>10.0</td>\n      <td>Light Rain</td>\n    </tr>\n    <tr>\n      <th>A-2</th>\n      <td>2</td>\n      <td>2016-02-08 06:07:59</td>\n      <td>2016-02-08 06:37:59</td>\n      <td>39.928059</td>\n      <td>-82.831184</td>\n      <td>Reynoldsburg</td>\n      <td>OH</td>\n      <td>37.9</td>\n      <td>100.0</td>\n      <td>10.0</td>\n      <td>Light Rain</td>\n    </tr>\n    <tr>\n      <th>A-3</th>\n      <td>2</td>\n      <td>2016-02-08 06:49:27</td>\n      <td>2016-02-08 07:19:27</td>\n      <td>39.063148</td>\n      <td>-84.032608</td>\n      <td>Williamsburg</td>\n      <td>OH</td>\n      <td>36.0</td>\n      <td>100.0</td>\n      <td>10.0</td>\n      <td>Overcast</td>\n    </tr>\n    <tr>\n      <th>A-4</th>\n      <td>3</td>\n      <td>2016-02-08 07:23:34</td>\n      <td>2016-02-08 07:53:34</td>\n      <td>39.747753</td>\n      <td>-84.205582</td>\n      <td>Dayton</td>\n      <td>OH</td>\n      <td>35.1</td>\n      <td>96.0</td>\n      <td>9.0</td>\n      <td>Mostly Cloudy</td>\n    </tr>\n    <tr>\n      <th>A-5</th>\n      <td>2</td>\n      <td>2016-02-08 07:39:07</td>\n      <td>2016-02-08 08:09:07</td>\n      <td>39.627781</td>\n      <td>-84.188354</td>\n      <td>Dayton</td>\n      <td>OH</td>\n      <td>36.0</td>\n      <td>89.0</td>\n      <td>6.0</td>\n      <td>Mostly Cloudy</td>\n    </tr>\n  </tbody>\n</table>\n</div>"
     },
     "metadata": {},
     "execution_count": 63
    }
   ],
   "source": [
    "accident_df_OH = accident_df_OH.set_index('ID')\n",
    "accident_df_OH.head()"
   ]
  },
  {
   "cell_type": "code",
   "execution_count": 65,
   "metadata": {},
   "outputs": [
    {
     "output_type": "execute_result",
     "data": {
      "text/plain": "          Severity           Start_Time             End_Time  Start_Lat  \\\nID                                                                        \nA-227193         2  2016-03-27 22:08:08  2016-03-27 23:23:08  38.766727   \nA-227878         2  2016-05-10 14:14:18  2016-05-10 14:59:18  38.502827   \nA-227901         1  2016-05-11 08:02:17  2016-05-11 09:32:17  38.534069   \nA-376738         2  2017-02-22 17:34:13  2017-02-22 18:03:45  38.453114   \nA-377046         2  2017-03-05 10:18:08  2017-03-05 10:47:23  38.708523   \n\n          Start_Lng              City State  Temperature(F)  Humidity(%)  \\\nID                                                                         \nA-227193 -84.188011            Foster    KY            67.3         66.0   \nA-227878 -82.775070           Greenup    KY            75.0         51.0   \nA-227901 -82.834595           Greenup    KY            61.0         93.0   \nA-376738 -82.673744           Ashland    KY            59.0         83.0   \nA-377046 -83.028114  South Portsmouth    KY            39.0         53.0   \n\n          Visibility(mi) Weather_Condition  \nID                                          \nA-227193            10.0          Overcast  \nA-227878            10.0          Overcast  \nA-227901            10.0             Clear  \nA-376738             6.0              Haze  \nA-377046            10.0             Clear  ",
      "text/html": "<div>\n<style scoped>\n    .dataframe tbody tr th:only-of-type {\n        vertical-align: middle;\n    }\n\n    .dataframe tbody tr th {\n        vertical-align: top;\n    }\n\n    .dataframe thead th {\n        text-align: right;\n    }\n</style>\n<table border=\"1\" class=\"dataframe\">\n  <thead>\n    <tr style=\"text-align: right;\">\n      <th></th>\n      <th>Severity</th>\n      <th>Start_Time</th>\n      <th>End_Time</th>\n      <th>Start_Lat</th>\n      <th>Start_Lng</th>\n      <th>City</th>\n      <th>State</th>\n      <th>Temperature(F)</th>\n      <th>Humidity(%)</th>\n      <th>Visibility(mi)</th>\n      <th>Weather_Condition</th>\n    </tr>\n    <tr>\n      <th>ID</th>\n      <th></th>\n      <th></th>\n      <th></th>\n      <th></th>\n      <th></th>\n      <th></th>\n      <th></th>\n      <th></th>\n      <th></th>\n      <th></th>\n      <th></th>\n    </tr>\n  </thead>\n  <tbody>\n    <tr>\n      <th>A-227193</th>\n      <td>2</td>\n      <td>2016-03-27 22:08:08</td>\n      <td>2016-03-27 23:23:08</td>\n      <td>38.766727</td>\n      <td>-84.188011</td>\n      <td>Foster</td>\n      <td>KY</td>\n      <td>67.3</td>\n      <td>66.0</td>\n      <td>10.0</td>\n      <td>Overcast</td>\n    </tr>\n    <tr>\n      <th>A-227878</th>\n      <td>2</td>\n      <td>2016-05-10 14:14:18</td>\n      <td>2016-05-10 14:59:18</td>\n      <td>38.502827</td>\n      <td>-82.775070</td>\n      <td>Greenup</td>\n      <td>KY</td>\n      <td>75.0</td>\n      <td>51.0</td>\n      <td>10.0</td>\n      <td>Overcast</td>\n    </tr>\n    <tr>\n      <th>A-227901</th>\n      <td>1</td>\n      <td>2016-05-11 08:02:17</td>\n      <td>2016-05-11 09:32:17</td>\n      <td>38.534069</td>\n      <td>-82.834595</td>\n      <td>Greenup</td>\n      <td>KY</td>\n      <td>61.0</td>\n      <td>93.0</td>\n      <td>10.0</td>\n      <td>Clear</td>\n    </tr>\n    <tr>\n      <th>A-376738</th>\n      <td>2</td>\n      <td>2017-02-22 17:34:13</td>\n      <td>2017-02-22 18:03:45</td>\n      <td>38.453114</td>\n      <td>-82.673744</td>\n      <td>Ashland</td>\n      <td>KY</td>\n      <td>59.0</td>\n      <td>83.0</td>\n      <td>6.0</td>\n      <td>Haze</td>\n    </tr>\n    <tr>\n      <th>A-377046</th>\n      <td>2</td>\n      <td>2017-03-05 10:18:08</td>\n      <td>2017-03-05 10:47:23</td>\n      <td>38.708523</td>\n      <td>-83.028114</td>\n      <td>South Portsmouth</td>\n      <td>KY</td>\n      <td>39.0</td>\n      <td>53.0</td>\n      <td>10.0</td>\n      <td>Clear</td>\n    </tr>\n  </tbody>\n</table>\n</div>"
     },
     "metadata": {},
     "execution_count": 65
    }
   ],
   "source": [
    "accident_df_KY = accident_df_cleaned.loc[df[\"State\"] == \"KY\"]\n",
    "accident_df_KY = accident_df_KY.set_index('ID')\n",
    "accident_df_KY.head()"
   ]
  },
  {
   "cell_type": "code",
   "execution_count": 36,
   "metadata": {},
   "outputs": [
    {
     "output_type": "error",
     "ename": "IndexingError",
     "evalue": "Unalignable boolean Series provided as indexer (index of the boolean Series and of the indexed object do not match).",
     "traceback": [
      "\u001b[0;31m---------------------------------------------------------------------------\u001b[0m",
      "\u001b[0;31mIndexingError\u001b[0m                             Traceback (most recent call last)",
      "\u001b[0;32m<ipython-input-36-c32bd1a197dc>\u001b[0m in \u001b[0;36m<module>\u001b[0;34m\u001b[0m\n\u001b[0;32m----> 1\u001b[0;31m \u001b[0maccident_df_OH\u001b[0m \u001b[0;34m=\u001b[0m \u001b[0maccident_df_cleaned\u001b[0m\u001b[0;34m.\u001b[0m\u001b[0mloc\u001b[0m\u001b[0;34m[\u001b[0m\u001b[0mdf\u001b[0m\u001b[0;34m[\u001b[0m\u001b[0;34m\"State\"\u001b[0m\u001b[0;34m]\u001b[0m \u001b[0;34m==\u001b[0m \u001b[0;34m\"OH\"\u001b[0m\u001b[0;34m]\u001b[0m\u001b[0;34m\u001b[0m\u001b[0;34m\u001b[0m\u001b[0m\n\u001b[0m\u001b[1;32m      2\u001b[0m \u001b[0maccident_df_WV\u001b[0m \u001b[0;34m=\u001b[0m \u001b[0maccident_df_cleaned\u001b[0m\u001b[0;34m.\u001b[0m\u001b[0mloc\u001b[0m\u001b[0;34m[\u001b[0m\u001b[0mdf\u001b[0m\u001b[0;34m[\u001b[0m\u001b[0;34m\"State\"\u001b[0m\u001b[0;34m]\u001b[0m \u001b[0;34m==\u001b[0m \u001b[0;34m\"WV\"\u001b[0m\u001b[0;34m]\u001b[0m\u001b[0;34m\u001b[0m\u001b[0;34m\u001b[0m\u001b[0m\n\u001b[1;32m      3\u001b[0m \u001b[0maccident_df_CA\u001b[0m \u001b[0;34m=\u001b[0m \u001b[0maccident_df_cleaned\u001b[0m\u001b[0;34m.\u001b[0m\u001b[0mloc\u001b[0m\u001b[0;34m[\u001b[0m\u001b[0mdf\u001b[0m\u001b[0;34m[\u001b[0m\u001b[0;34m\"State\"\u001b[0m\u001b[0;34m]\u001b[0m \u001b[0;34m==\u001b[0m \u001b[0;34m\"CA\"\u001b[0m\u001b[0;34m]\u001b[0m\u001b[0;34m\u001b[0m\u001b[0;34m\u001b[0m\u001b[0m\n\u001b[1;32m      4\u001b[0m \u001b[0maccident_df_FL\u001b[0m \u001b[0;34m=\u001b[0m \u001b[0maccident_df_cleaned\u001b[0m\u001b[0;34m.\u001b[0m\u001b[0mloc\u001b[0m\u001b[0;34m[\u001b[0m\u001b[0mdf\u001b[0m\u001b[0;34m[\u001b[0m\u001b[0;34m\"State\"\u001b[0m\u001b[0;34m]\u001b[0m \u001b[0;34m==\u001b[0m \u001b[0;34m\"FL\"\u001b[0m\u001b[0;34m]\u001b[0m\u001b[0;34m\u001b[0m\u001b[0;34m\u001b[0m\u001b[0m\n\u001b[1;32m      5\u001b[0m \u001b[0maccident_df_GA\u001b[0m \u001b[0;34m=\u001b[0m \u001b[0maccident_df_cleaned\u001b[0m\u001b[0;34m.\u001b[0m\u001b[0mloc\u001b[0m\u001b[0;34m[\u001b[0m\u001b[0mdf\u001b[0m\u001b[0;34m[\u001b[0m\u001b[0;34m\"State\"\u001b[0m\u001b[0;34m]\u001b[0m \u001b[0;34m==\u001b[0m \u001b[0;34m\"GA\"\u001b[0m\u001b[0;34m]\u001b[0m\u001b[0;34m\u001b[0m\u001b[0;34m\u001b[0m\u001b[0m\n",
      "\u001b[0;32m/opt/anaconda3/envs/PythonData/lib/python3.7/site-packages/pandas/core/indexing.py\u001b[0m in \u001b[0;36m__getitem__\u001b[0;34m(self, key)\u001b[0m\n\u001b[1;32m   1766\u001b[0m \u001b[0;34m\u001b[0m\u001b[0m\n\u001b[1;32m   1767\u001b[0m             \u001b[0mmaybe_callable\u001b[0m \u001b[0;34m=\u001b[0m \u001b[0mcom\u001b[0m\u001b[0;34m.\u001b[0m\u001b[0mapply_if_callable\u001b[0m\u001b[0;34m(\u001b[0m\u001b[0mkey\u001b[0m\u001b[0;34m,\u001b[0m \u001b[0mself\u001b[0m\u001b[0;34m.\u001b[0m\u001b[0mobj\u001b[0m\u001b[0;34m)\u001b[0m\u001b[0;34m\u001b[0m\u001b[0;34m\u001b[0m\u001b[0m\n\u001b[0;32m-> 1768\u001b[0;31m             \u001b[0;32mreturn\u001b[0m \u001b[0mself\u001b[0m\u001b[0;34m.\u001b[0m\u001b[0m_getitem_axis\u001b[0m\u001b[0;34m(\u001b[0m\u001b[0mmaybe_callable\u001b[0m\u001b[0;34m,\u001b[0m \u001b[0maxis\u001b[0m\u001b[0;34m=\u001b[0m\u001b[0maxis\u001b[0m\u001b[0;34m)\u001b[0m\u001b[0;34m\u001b[0m\u001b[0;34m\u001b[0m\u001b[0m\n\u001b[0m\u001b[1;32m   1769\u001b[0m \u001b[0;34m\u001b[0m\u001b[0m\n\u001b[1;32m   1770\u001b[0m     \u001b[0;32mdef\u001b[0m \u001b[0m_is_scalar_access\u001b[0m\u001b[0;34m(\u001b[0m\u001b[0mself\u001b[0m\u001b[0;34m,\u001b[0m \u001b[0mkey\u001b[0m\u001b[0;34m:\u001b[0m \u001b[0mTuple\u001b[0m\u001b[0;34m)\u001b[0m\u001b[0;34m:\u001b[0m\u001b[0;34m\u001b[0m\u001b[0;34m\u001b[0m\u001b[0m\n",
      "\u001b[0;32m/opt/anaconda3/envs/PythonData/lib/python3.7/site-packages/pandas/core/indexing.py\u001b[0m in \u001b[0;36m_getitem_axis\u001b[0;34m(self, key, axis)\u001b[0m\n\u001b[1;32m   1912\u001b[0m             \u001b[0;32mreturn\u001b[0m \u001b[0mself\u001b[0m\u001b[0;34m.\u001b[0m\u001b[0m_get_slice_axis\u001b[0m\u001b[0;34m(\u001b[0m\u001b[0mkey\u001b[0m\u001b[0;34m,\u001b[0m \u001b[0maxis\u001b[0m\u001b[0;34m=\u001b[0m\u001b[0maxis\u001b[0m\u001b[0;34m)\u001b[0m\u001b[0;34m\u001b[0m\u001b[0;34m\u001b[0m\u001b[0m\n\u001b[1;32m   1913\u001b[0m         \u001b[0;32melif\u001b[0m \u001b[0mcom\u001b[0m\u001b[0;34m.\u001b[0m\u001b[0mis_bool_indexer\u001b[0m\u001b[0;34m(\u001b[0m\u001b[0mkey\u001b[0m\u001b[0;34m)\u001b[0m\u001b[0;34m:\u001b[0m\u001b[0;34m\u001b[0m\u001b[0;34m\u001b[0m\u001b[0m\n\u001b[0;32m-> 1914\u001b[0;31m             \u001b[0;32mreturn\u001b[0m \u001b[0mself\u001b[0m\u001b[0;34m.\u001b[0m\u001b[0m_getbool_axis\u001b[0m\u001b[0;34m(\u001b[0m\u001b[0mkey\u001b[0m\u001b[0;34m,\u001b[0m \u001b[0maxis\u001b[0m\u001b[0;34m=\u001b[0m\u001b[0maxis\u001b[0m\u001b[0;34m)\u001b[0m\u001b[0;34m\u001b[0m\u001b[0;34m\u001b[0m\u001b[0m\n\u001b[0m\u001b[1;32m   1915\u001b[0m         \u001b[0;32melif\u001b[0m \u001b[0mis_list_like_indexer\u001b[0m\u001b[0;34m(\u001b[0m\u001b[0mkey\u001b[0m\u001b[0;34m)\u001b[0m\u001b[0;34m:\u001b[0m\u001b[0;34m\u001b[0m\u001b[0;34m\u001b[0m\u001b[0m\n\u001b[1;32m   1916\u001b[0m \u001b[0;34m\u001b[0m\u001b[0m\n",
      "\u001b[0;32m/opt/anaconda3/envs/PythonData/lib/python3.7/site-packages/pandas/core/indexing.py\u001b[0m in \u001b[0;36m_getbool_axis\u001b[0;34m(self, key, axis)\u001b[0m\n\u001b[1;32m   1780\u001b[0m         \u001b[0;31m# caller is responsible for ensuring non-None axis\u001b[0m\u001b[0;34m\u001b[0m\u001b[0;34m\u001b[0m\u001b[0;34m\u001b[0m\u001b[0m\n\u001b[1;32m   1781\u001b[0m         \u001b[0mlabels\u001b[0m \u001b[0;34m=\u001b[0m \u001b[0mself\u001b[0m\u001b[0;34m.\u001b[0m\u001b[0mobj\u001b[0m\u001b[0;34m.\u001b[0m\u001b[0m_get_axis\u001b[0m\u001b[0;34m(\u001b[0m\u001b[0maxis\u001b[0m\u001b[0;34m)\u001b[0m\u001b[0;34m\u001b[0m\u001b[0;34m\u001b[0m\u001b[0m\n\u001b[0;32m-> 1782\u001b[0;31m         \u001b[0mkey\u001b[0m \u001b[0;34m=\u001b[0m \u001b[0mcheck_bool_indexer\u001b[0m\u001b[0;34m(\u001b[0m\u001b[0mlabels\u001b[0m\u001b[0;34m,\u001b[0m \u001b[0mkey\u001b[0m\u001b[0;34m)\u001b[0m\u001b[0;34m\u001b[0m\u001b[0;34m\u001b[0m\u001b[0m\n\u001b[0m\u001b[1;32m   1783\u001b[0m         \u001b[0minds\u001b[0m \u001b[0;34m=\u001b[0m \u001b[0mkey\u001b[0m\u001b[0;34m.\u001b[0m\u001b[0mnonzero\u001b[0m\u001b[0;34m(\u001b[0m\u001b[0;34m)\u001b[0m\u001b[0;34m[\u001b[0m\u001b[0;36m0\u001b[0m\u001b[0;34m]\u001b[0m\u001b[0;34m\u001b[0m\u001b[0;34m\u001b[0m\u001b[0m\n\u001b[1;32m   1784\u001b[0m         \u001b[0;32mreturn\u001b[0m \u001b[0mself\u001b[0m\u001b[0;34m.\u001b[0m\u001b[0mobj\u001b[0m\u001b[0;34m.\u001b[0m\u001b[0m_take_with_is_copy\u001b[0m\u001b[0;34m(\u001b[0m\u001b[0minds\u001b[0m\u001b[0;34m,\u001b[0m \u001b[0maxis\u001b[0m\u001b[0;34m=\u001b[0m\u001b[0maxis\u001b[0m\u001b[0;34m)\u001b[0m\u001b[0;34m\u001b[0m\u001b[0;34m\u001b[0m\u001b[0m\n",
      "\u001b[0;32m/opt/anaconda3/envs/PythonData/lib/python3.7/site-packages/pandas/core/indexing.py\u001b[0m in \u001b[0;36mcheck_bool_indexer\u001b[0;34m(index, key)\u001b[0m\n\u001b[1;32m   2316\u001b[0m         \u001b[0;32mif\u001b[0m \u001b[0mmask\u001b[0m\u001b[0;34m.\u001b[0m\u001b[0many\u001b[0m\u001b[0;34m(\u001b[0m\u001b[0;34m)\u001b[0m\u001b[0;34m:\u001b[0m\u001b[0;34m\u001b[0m\u001b[0;34m\u001b[0m\u001b[0m\n\u001b[1;32m   2317\u001b[0m             raise IndexingError(\n\u001b[0;32m-> 2318\u001b[0;31m                 \u001b[0;34m\"Unalignable boolean Series provided as \"\u001b[0m\u001b[0;34m\u001b[0m\u001b[0;34m\u001b[0m\u001b[0m\n\u001b[0m\u001b[1;32m   2319\u001b[0m                 \u001b[0;34m\"indexer (index of the boolean Series and of \"\u001b[0m\u001b[0;34m\u001b[0m\u001b[0;34m\u001b[0m\u001b[0m\n\u001b[1;32m   2320\u001b[0m                 \u001b[0;34m\"the indexed object do not match).\"\u001b[0m\u001b[0;34m\u001b[0m\u001b[0;34m\u001b[0m\u001b[0m\n",
      "\u001b[0;31mIndexingError\u001b[0m: Unalignable boolean Series provided as indexer (index of the boolean Series and of the indexed object do not match)."
     ]
    }
   ],
   "source": [
    "accident_df_OH = accident_df_cleaned.loc[df[\"State\"] == \"OH\"]\n",
    "accident_df_WV = accident_df_cleaned.loc[df[\"State\"] == \"WV\"]\n",
    "accident_df_CA = accident_df_cleaned.loc[df[\"State\"] == \"CA\"]\n",
    "accident_df_FL = accident_df_cleaned.loc[df[\"State\"] == \"FL\"]\n",
    "accident_df_GA = accident_df_cleaned.loc[df[\"State\"] == \"GA\"]\n",
    "accident_df_SC = accident_df_cleaned.loc[df[\"State\"] == \"SC\"]\n",
    "accident_df_NE = accident_df_cleaned.loc[df[\"State\"] == \"NE\"]\n",
    "accident_df_IA = accident_df_cleaned.loc[df[\"State\"] == \"IA\"]\n",
    "accident_df_IL = accident_df_cleaned.loc[df[\"State\"] == \"IL\"]\n",
    "accident_df_MO = accident_df_cleaned.loc[df[\"State\"] == \"MO\"]\n",
    "accident_df_WI = accident_df_cleaned.loc[df[\"State\"] == \"WI\"]\n",
    "accident_df_IN = accident_df_cleaned.loc[df[\"State\"] == \"IN\"]\n",
    "accident_df_MI = accident_df_cleaned.loc[df[\"State\"] == \"MI\"]\n",
    "accident_df_NJ = accident_df_cleaned.loc[df[\"State\"] == \"NJ\"]\n",
    "accident_df_NY = accident_df_cleaned.loc[df[\"State\"] == \"NY\"]\n",
    "accident_df_CT = accident_df_cleaned.loc[df[\"State\"] == \"CT\"]\n",
    "accident_df_MA = accident_df_cleaned.loc[df[\"State\"] == \"MA\"]\n",
    "accident_df_RI = accident_df_cleaned.loc[df[\"State\"] == \"RI\"]\n",
    "accident_df_NH = accident_df_cleaned.loc[df[\"State\"] == \"NH\"]\n",
    "accident_df_PA = accident_df_cleaned.loc[df[\"State\"] == \"PA\"]\n",
    "accident_df_KY = accident_df_cleaned.loc[df[\"State\"] == \"KY\"]\n",
    "accident_df_MD = accident_df_cleaned.loc[df[\"State\"] == \"MD\"]\n",
    "accident_df_VA = accident_df_cleaned.loc[df[\"State\"] == \"VA\"]\n",
    "accident_df_DC = accident_df_cleaned.loc[df[\"State\"] == \"DC\"]\n",
    "accident_df_DE = accident_df_cleaned.loc[df[\"State\"] == \"DE\"]\n",
    "accident_df_TX = accident_df_cleaned.loc[df[\"State\"] == \"TX\"]\n",
    "accident_df_WA = accident_df_cleaned.loc[df[\"State\"] == \"WA\"]\n",
    "accident_df_OR = accident_df_cleaned.loc[df[\"State\"] == \"OR\"]\n",
    "accident_df_AL = accident_df_cleaned.loc[df[\"State\"] == \"AL\"]\n",
    "accident_df_NC = accident_df_cleaned.loc[df[\"State\"] == \"NC\"]\n",
    "accident_df_MN = accident_df_cleaned.loc[df[\"State\"] == \"MN\"]\n",
    "accident_df_OK = accident_df_cleaned.loc[df[\"State\"] == \"OK\"]\n",
    "accident_df_LA = accident_df_cleaned.loc[df[\"State\"] == \"LA\"]\n",
    "accident_df_TN = accident_df_cleaned.loc[df[\"State\"] == \"TN\"]\n",
    "accident_df_UT = accident_df_cleaned.loc[df[\"State\"] == \"UT\"]\n",
    "accident_df_CO = accident_df_cleaned.loc[df[\"State\"] == \"CO\"]\n",
    "accident_df_AZ = accident_df_cleaned.loc[df[\"State\"] == \"AZ\"]\n",
    "accident_df_NV = accident_df_cleaned.loc[df[\"State\"] == \"NV\"]\n",
    "accident_df_KS = accident_df_cleaned.loc[df[\"State\"] == \"KS\"]\n",
    "accident_df_MS = accident_df_cleaned.loc[df[\"State\"] == \"MS\"]\n",
    "accident_df_NM = accident_df_cleaned.loc[df[\"State\"] == \"NM\"]\n",
    "accident_df_ME = accident_df_cleaned.loc[df[\"State\"] == \"ME\"]\n",
    "accident_df_AR = accident_df_cleaned.loc[df[\"State\"] == \"AR\"]\n",
    "accident_df_WY = accident_df_cleaned.loc[df[\"State\"] == \"WY\"]\n",
    "accident_df_VT = accident_df_cleaned.loc[df[\"State\"] == \"VT\"]\n",
    "accident_df_ID = accident_df_cleaned.loc[df[\"State\"] == \"ID\"]\n",
    "accident_df_ND = accident_df_cleaned.loc[df[\"State\"] == \"ND\"]\n",
    "accident_df_MT = accident_df_cleaned.loc[df[\"State\"] == \"MT\"]\n",
    "accident_df_SD = accident_df_cleaned.loc[df[\"State\"] == \"SD\"]\n"
   ]
  },
  {
   "cell_type": "code",
   "execution_count": 67,
   "metadata": {},
   "outputs": [
    {
     "output_type": "execute_result",
     "data": {
      "text/plain": "     Severity           Start_Time             End_Time  Start_Lat  Start_Lng  \\\nID                                                                              \nA-1         3  2016-02-08 05:46:00  2016-02-08 11:00:00  39.865147 -84.058723   \nA-2         2  2016-02-08 06:07:59  2016-02-08 06:37:59  39.928059 -82.831184   \nA-3         2  2016-02-08 06:49:27  2016-02-08 07:19:27  39.063148 -84.032608   \nA-4         3  2016-02-08 07:23:34  2016-02-08 07:53:34  39.747753 -84.205582   \nA-5         2  2016-02-08 07:39:07  2016-02-08 08:09:07  39.627781 -84.188354   \n\n             City State  Temperature(F)  Humidity(%)  Visibility(mi)  \\\nID                                                                     \nA-1        Dayton    OH            36.9         91.0            10.0   \nA-2  Reynoldsburg    OH            37.9        100.0            10.0   \nA-3  Williamsburg    OH            36.0        100.0            10.0   \nA-4        Dayton    OH            35.1         96.0             9.0   \nA-5        Dayton    OH            36.0         89.0             6.0   \n\n    Weather_Condition  \nID                     \nA-1        Light Rain  \nA-2        Light Rain  \nA-3          Overcast  \nA-4     Mostly Cloudy  \nA-5     Mostly Cloudy  ",
      "text/html": "<div>\n<style scoped>\n    .dataframe tbody tr th:only-of-type {\n        vertical-align: middle;\n    }\n\n    .dataframe tbody tr th {\n        vertical-align: top;\n    }\n\n    .dataframe thead th {\n        text-align: right;\n    }\n</style>\n<table border=\"1\" class=\"dataframe\">\n  <thead>\n    <tr style=\"text-align: right;\">\n      <th></th>\n      <th>Severity</th>\n      <th>Start_Time</th>\n      <th>End_Time</th>\n      <th>Start_Lat</th>\n      <th>Start_Lng</th>\n      <th>City</th>\n      <th>State</th>\n      <th>Temperature(F)</th>\n      <th>Humidity(%)</th>\n      <th>Visibility(mi)</th>\n      <th>Weather_Condition</th>\n    </tr>\n    <tr>\n      <th>ID</th>\n      <th></th>\n      <th></th>\n      <th></th>\n      <th></th>\n      <th></th>\n      <th></th>\n      <th></th>\n      <th></th>\n      <th></th>\n      <th></th>\n      <th></th>\n    </tr>\n  </thead>\n  <tbody>\n    <tr>\n      <th>A-1</th>\n      <td>3</td>\n      <td>2016-02-08 05:46:00</td>\n      <td>2016-02-08 11:00:00</td>\n      <td>39.865147</td>\n      <td>-84.058723</td>\n      <td>Dayton</td>\n      <td>OH</td>\n      <td>36.9</td>\n      <td>91.0</td>\n      <td>10.0</td>\n      <td>Light Rain</td>\n    </tr>\n    <tr>\n      <th>A-2</th>\n      <td>2</td>\n      <td>2016-02-08 06:07:59</td>\n      <td>2016-02-08 06:37:59</td>\n      <td>39.928059</td>\n      <td>-82.831184</td>\n      <td>Reynoldsburg</td>\n      <td>OH</td>\n      <td>37.9</td>\n      <td>100.0</td>\n      <td>10.0</td>\n      <td>Light Rain</td>\n    </tr>\n    <tr>\n      <th>A-3</th>\n      <td>2</td>\n      <td>2016-02-08 06:49:27</td>\n      <td>2016-02-08 07:19:27</td>\n      <td>39.063148</td>\n      <td>-84.032608</td>\n      <td>Williamsburg</td>\n      <td>OH</td>\n      <td>36.0</td>\n      <td>100.0</td>\n      <td>10.0</td>\n      <td>Overcast</td>\n    </tr>\n    <tr>\n      <th>A-4</th>\n      <td>3</td>\n      <td>2016-02-08 07:23:34</td>\n      <td>2016-02-08 07:53:34</td>\n      <td>39.747753</td>\n      <td>-84.205582</td>\n      <td>Dayton</td>\n      <td>OH</td>\n      <td>35.1</td>\n      <td>96.0</td>\n      <td>9.0</td>\n      <td>Mostly Cloudy</td>\n    </tr>\n    <tr>\n      <th>A-5</th>\n      <td>2</td>\n      <td>2016-02-08 07:39:07</td>\n      <td>2016-02-08 08:09:07</td>\n      <td>39.627781</td>\n      <td>-84.188354</td>\n      <td>Dayton</td>\n      <td>OH</td>\n      <td>36.0</td>\n      <td>89.0</td>\n      <td>6.0</td>\n      <td>Mostly Cloudy</td>\n    </tr>\n  </tbody>\n</table>\n</div>"
     },
     "metadata": {},
     "execution_count": 67
    }
   ],
   "source": [
    "accident_df_OH.head()"
   ]
  },
  {
   "cell_type": "code",
   "execution_count": 12,
   "metadata": {},
   "outputs": [],
   "source": [
    "accident_df_OH.to_csv(\"../Resource/OH_accident.csv\", encoding=\"utf-8\", index=True)\n",
    "accident_df_WV.to_csv(\"../Resource/WA_accident.csv\", encoding=\"utf-8\", index=True)\n",
    "accident_df_CA.to_csv(\"../Resource/CA_accident.csv\", encoding=\"utf-8\", index=True)\n",
    "accident_df_FL.to_csv(\"../Resource/FL_accident.csv\", encoding=\"utf-8\", index=True)\n",
    "accident_df_GA.to_csv(\"../Resource/GA_accident.csv\", encoding=\"utf-8\", index=True)\n",
    "accident_df_SC.to_csv(\"../Resource/SC_accident.csv\", encoding=\"utf-8\", index=True)\n",
    "accident_df_NE.to_csv(\"../Resource/NE_accident.csv\", encoding=\"utf-8\", index=True)\n",
    "accident_df_IA.to_csv(\"../Resource/IA_accident.csv\", encoding=\"utf-8\", index=True)\n",
    "accident_df_IL.to_csv(\"../Resource/IL_accident.csv\", encoding=\"utf-8\", index=True)\n",
    "accident_df_MO.to_csv(\"../Resource/MO_accident.csv\", encoding=\"utf-8\", index=True)\n",
    "accident_df_WI.to_csv(\"../Resource/WI_accident.csv\", encoding=\"utf-8\", index=True)\n",
    "accident_df_IN.to_csv(\"../Resource/IN_accident.csv\", encoding=\"utf-8\", index=True)\n",
    "accident_df_MI.to_csv(\"../Resource/MI_accident.csv\", encoding=\"utf-8\", index=True)\n",
    "accident_df_NJ.to_csv(\"../Resource/NJ_accident.csv\", encoding=\"utf-8\", index=True)\n",
    "accident_df_NY.to_csv(\"../Resource/NY_accident.csv\", encoding=\"utf-8\", index=True)\n",
    "accident_df_CT.to_csv(\"../Resource/CT_accident.csv\", encoding=\"utf-8\", index=True)\n",
    "accident_df_MA.to_csv(\"../Resource/MA_accident.csv\", encoding=\"utf-8\", index=True)\n",
    "accident_df_RI.to_csv(\"../Resource/RI_accident.csv\", encoding=\"utf-8\", index=True)\n",
    "accident_df_NH.to_csv(\"../Resource/NH_accident.csv\", encoding=\"utf-8\", index=True)\n",
    "accident_df_PA.to_csv(\"../Resource/PA_accident.csv\", encoding=\"utf-8\", index=True)\n",
    "accident_df_KY.to_csv(\"../Resource/KY_accident.csv\", encoding=\"utf-8\", index=True)\n",
    "accident_df_MD.to_csv(\"../Resource/MD_accident.csv\", encoding=\"utf-8\", index=True)\n",
    "accident_df_VA.to_csv(\"../Resource/VA_accident.csv\", encoding=\"utf-8\", index=True)\n",
    "accident_df_DC.to_csv(\"../Resource/DC_accident.csv\", encoding=\"utf-8\", index=True)\n",
    "accident_df_DE.to_csv(\"../Resource/DE_accident.csv\", encoding=\"utf-8\", index=True)\n",
    "accident_df_TX.to_csv(\"../Resource/TX_accident.csv\", encoding=\"utf-8\", index=True)\n",
    "accident_df_WA.to_csv(\"../Resource/WA_accident.csv\", encoding=\"utf-8\", index=True)\n",
    "accident_df_OR.to_csv(\"../Resource/OR_accident.csv\", encoding=\"utf-8\", index=True)\n",
    "accident_df_AL.to_csv(\"../Resource/AL_accident.csv\", encoding=\"utf-8\", index=True)\n",
    "accident_df_NC.to_csv(\"../Resource/NC_accident.csv\", encoding=\"utf-8\", index=True)\n",
    "accident_df_MN.to_csv(\"../Resource/MN_accident.csv\", encoding=\"utf-8\", index=True)\n",
    "accident_df_OK.to_csv(\"../Resource/OK_accident.csv\", encoding=\"utf-8\", index=True)\n",
    "accident_df_LA.to_csv(\"../Resource/LA_accident.csv\", encoding=\"utf-8\", index=True)\n",
    "accident_df_TN.to_csv(\"../Resource/TN_accident.csv\", encoding=\"utf-8\", index=True)\n",
    "accident_df_UT.to_csv(\"../Resource/UT_accident.csv\", encoding=\"utf-8\", index=True)\n",
    "accident_df_CO.to_csv(\"../Resource/CO_accident.csv\", encoding=\"utf-8\", index=True)\n",
    "accident_df_AZ.to_csv(\"../Resource/AZ_accident.csv\", encoding=\"utf-8\", index=True)\n",
    "accident_df_NV.to_csv(\"../Resource/NV_accident.csv\", encoding=\"utf-8\", index=True)\n",
    "accident_df_KS.to_csv(\"../Resource/KS_accident.csv\", encoding=\"utf-8\", index=True)\n",
    "accident_df_MS.to_csv(\"../Resource/MS_accident.csv\", encoding=\"utf-8\", index=True)\n",
    "accident_df_NM.to_csv(\"../Resource/NM_accident.csv\", encoding=\"utf-8\", index=True)\n",
    "accident_df_ME.to_csv(\"../Resource/ME_accident.csv\", encoding=\"utf-8\", index=True)\n",
    "accident_df_AR.to_csv(\"../Resource/AR_accident.csv\", encoding=\"utf-8\", index=True)\n",
    "accident_df_WY.to_csv(\"../Resource/WY_accident.csv\", encoding=\"utf-8\", index=True)\n",
    "accident_df_VT.to_csv(\"../Resource/VT_accident.csv\", encoding=\"utf-8\", index=True)\n",
    "accident_df_ID.to_csv(\"../Resource/ID_accident.csv\", encoding=\"utf-8\", index=True)\n",
    "accident_df_ND.to_csv(\"../Resource/NM_accident.csv\", encoding=\"utf-8\", index=True)\n",
    "accident_df_MT.to_csv(\"../Resource/MT_accident.csv\", encoding=\"utf-8\", index=True)\n",
    "accident_df_SD.to_csv(\"../Resource/SD_accident.csv\", encoding=\"utf-8\", index=True)"
   ]
  },
  {
   "cell_type": "code",
   "execution_count": 15,
   "metadata": {},
   "outputs": [],
   "source": [
    "file2 = \"../Resource/NY_accident.csv\"\n",
    "df = pd.read_csv(file2)"
   ]
  },
  {
   "cell_type": "code",
   "execution_count": 21,
   "metadata": {},
   "outputs": [
    {
     "output_type": "execute_result",
     "data": {
      "text/plain": "                  Unnamed: 0    ID  Severity  Start_Time  End_Time  Start_Lat  \\\nCity                                                                            \nAccord                     5     5         5           5         5          5   \nAcra                       2     2         2           2         2          2   \nAdams                      2     2         2           2         2          2   \nAdams Center               5     5         5           5         5          5   \nAddison                    7     7         7           7         7          7   \n...                      ...   ...       ...         ...       ...        ...   \nYonkers                 1886  1886      1886        1886      1886       1886   \nYorktown Heights         616   616       616         616       616        616   \nYorkville                 14    14        14          14        14         14   \nYoungstown                 5     5         5           5         5          5   \nYoungsville                1     1         1           1         1          1   \n\n                  Start_Lng  State  Temperature(F)  Humidity(%)  \\\nCity                                                              \nAccord                    5      5               5            5   \nAcra                      2      2               2            2   \nAdams                     2      2               2            2   \nAdams Center              5      5               5            5   \nAddison                   7      7               7            7   \n...                     ...    ...             ...          ...   \nYonkers                1886   1886            1886         1886   \nYorktown Heights        616    616             616          616   \nYorkville                14     14              14           14   \nYoungstown                5      5               5            5   \nYoungsville               1      1               1            1   \n\n                  Visibility(mi)  Weather_Condition  \nCity                                                 \nAccord                         5                  5  \nAcra                           2                  2  \nAdams                          2                  2  \nAdams Center                   5                  5  \nAddison                        7                  7  \n...                          ...                ...  \nYonkers                     1886               1886  \nYorktown Heights             616                616  \nYorkville                     14                 14  \nYoungstown                     5                  5  \nYoungsville                    1                  1  \n\n[1068 rows x 12 columns]",
      "text/html": "<div>\n<style scoped>\n    .dataframe tbody tr th:only-of-type {\n        vertical-align: middle;\n    }\n\n    .dataframe tbody tr th {\n        vertical-align: top;\n    }\n\n    .dataframe thead th {\n        text-align: right;\n    }\n</style>\n<table border=\"1\" class=\"dataframe\">\n  <thead>\n    <tr style=\"text-align: right;\">\n      <th></th>\n      <th>Unnamed: 0</th>\n      <th>ID</th>\n      <th>Severity</th>\n      <th>Start_Time</th>\n      <th>End_Time</th>\n      <th>Start_Lat</th>\n      <th>Start_Lng</th>\n      <th>State</th>\n      <th>Temperature(F)</th>\n      <th>Humidity(%)</th>\n      <th>Visibility(mi)</th>\n      <th>Weather_Condition</th>\n    </tr>\n    <tr>\n      <th>City</th>\n      <th></th>\n      <th></th>\n      <th></th>\n      <th></th>\n      <th></th>\n      <th></th>\n      <th></th>\n      <th></th>\n      <th></th>\n      <th></th>\n      <th></th>\n      <th></th>\n    </tr>\n  </thead>\n  <tbody>\n    <tr>\n      <th>Accord</th>\n      <td>5</td>\n      <td>5</td>\n      <td>5</td>\n      <td>5</td>\n      <td>5</td>\n      <td>5</td>\n      <td>5</td>\n      <td>5</td>\n      <td>5</td>\n      <td>5</td>\n      <td>5</td>\n      <td>5</td>\n    </tr>\n    <tr>\n      <th>Acra</th>\n      <td>2</td>\n      <td>2</td>\n      <td>2</td>\n      <td>2</td>\n      <td>2</td>\n      <td>2</td>\n      <td>2</td>\n      <td>2</td>\n      <td>2</td>\n      <td>2</td>\n      <td>2</td>\n      <td>2</td>\n    </tr>\n    <tr>\n      <th>Adams</th>\n      <td>2</td>\n      <td>2</td>\n      <td>2</td>\n      <td>2</td>\n      <td>2</td>\n      <td>2</td>\n      <td>2</td>\n      <td>2</td>\n      <td>2</td>\n      <td>2</td>\n      <td>2</td>\n      <td>2</td>\n    </tr>\n    <tr>\n      <th>Adams Center</th>\n      <td>5</td>\n      <td>5</td>\n      <td>5</td>\n      <td>5</td>\n      <td>5</td>\n      <td>5</td>\n      <td>5</td>\n      <td>5</td>\n      <td>5</td>\n      <td>5</td>\n      <td>5</td>\n      <td>5</td>\n    </tr>\n    <tr>\n      <th>Addison</th>\n      <td>7</td>\n      <td>7</td>\n      <td>7</td>\n      <td>7</td>\n      <td>7</td>\n      <td>7</td>\n      <td>7</td>\n      <td>7</td>\n      <td>7</td>\n      <td>7</td>\n      <td>7</td>\n      <td>7</td>\n    </tr>\n    <tr>\n      <th>...</th>\n      <td>...</td>\n      <td>...</td>\n      <td>...</td>\n      <td>...</td>\n      <td>...</td>\n      <td>...</td>\n      <td>...</td>\n      <td>...</td>\n      <td>...</td>\n      <td>...</td>\n      <td>...</td>\n      <td>...</td>\n    </tr>\n    <tr>\n      <th>Yonkers</th>\n      <td>1886</td>\n      <td>1886</td>\n      <td>1886</td>\n      <td>1886</td>\n      <td>1886</td>\n      <td>1886</td>\n      <td>1886</td>\n      <td>1886</td>\n      <td>1886</td>\n      <td>1886</td>\n      <td>1886</td>\n      <td>1886</td>\n    </tr>\n    <tr>\n      <th>Yorktown Heights</th>\n      <td>616</td>\n      <td>616</td>\n      <td>616</td>\n      <td>616</td>\n      <td>616</td>\n      <td>616</td>\n      <td>616</td>\n      <td>616</td>\n      <td>616</td>\n      <td>616</td>\n      <td>616</td>\n      <td>616</td>\n    </tr>\n    <tr>\n      <th>Yorkville</th>\n      <td>14</td>\n      <td>14</td>\n      <td>14</td>\n      <td>14</td>\n      <td>14</td>\n      <td>14</td>\n      <td>14</td>\n      <td>14</td>\n      <td>14</td>\n      <td>14</td>\n      <td>14</td>\n      <td>14</td>\n    </tr>\n    <tr>\n      <th>Youngstown</th>\n      <td>5</td>\n      <td>5</td>\n      <td>5</td>\n      <td>5</td>\n      <td>5</td>\n      <td>5</td>\n      <td>5</td>\n      <td>5</td>\n      <td>5</td>\n      <td>5</td>\n      <td>5</td>\n      <td>5</td>\n    </tr>\n    <tr>\n      <th>Youngsville</th>\n      <td>1</td>\n      <td>1</td>\n      <td>1</td>\n      <td>1</td>\n      <td>1</td>\n      <td>1</td>\n      <td>1</td>\n      <td>1</td>\n      <td>1</td>\n      <td>1</td>\n      <td>1</td>\n      <td>1</td>\n    </tr>\n  </tbody>\n</table>\n<p>1068 rows × 12 columns</p>\n</div>"
     },
     "metadata": {},
     "execution_count": 21
    }
   ],
   "source": [
    "nycities = df['City'].unique()\n",
    "#len(nycities)\n",
    "df.groupby(['City']).count()"
   ]
  },
  {
   "cell_type": "code",
   "execution_count": null,
   "metadata": {},
   "outputs": [],
   "source": []
  }
 ],
 "metadata": {
  "language_info": {
   "codemirror_mode": {
    "name": "ipython",
    "version": 3
   },
   "file_extension": ".py",
   "mimetype": "text/x-python",
   "name": "python",
   "nbconvert_exporter": "python",
   "pygments_lexer": "ipython3",
   "version": "3.7.7-final"
  },
  "orig_nbformat": 2,
  "kernelspec": {
   "name": "python37764bitpythondataconda58c3617d3eed445b80043e5831324c4d",
   "display_name": "Python 3.7.7 64-bit ('PythonData': conda)"
  }
 },
 "nbformat": 4,
 "nbformat_minor": 2
}