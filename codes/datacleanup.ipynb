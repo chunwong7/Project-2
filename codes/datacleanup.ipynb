{
 "cells": [
  {
   "cell_type": "code",
   "execution_count": 1,
   "metadata": {},
   "outputs": [],
   "source": [
    "import pandas as pd \n",
    "import csv "
   ]
  },
  {
   "cell_type": "code",
   "execution_count": 3,
   "metadata": {},
   "outputs": [],
   "source": [
    "file = \"../Resource/US_Accidents_Dec19.csv\"\n",
    "df = pd.read_csv(file)"
   ]
  },
  {
   "cell_type": "code",
   "execution_count": 5,
   "metadata": {},
   "outputs": [],
   "source": [
    "columns = [\"ID\", \"Severity\", \"Start_Time\", \"End_Time\", \"Start_Lat\", \"Start_Lng\", \n",
    "\"City\", \"State\", \"Temperature(F)\", \"Humidity(%)\", \"Visibility(mi)\", \"Weather_Condition\"]\n",
    "accident_df = df[columns]"
   ]
  },
  {
   "cell_type": "code",
   "execution_count": 8,
   "metadata": {},
   "outputs": [],
   "source": [
    "accident_df_cleaned = accident_df.dropna()"
   ]
  },
  {
   "cell_type": "code",
   "execution_count": 9,
   "metadata": {},
   "outputs": [
    {
     "output_type": "execute_result",
     "data": {
      "text/plain": "ID                   2888846\nSeverity             2888846\nStart_Time           2888846\nEnd_Time             2888846\nStart_Lat            2888846\nStart_Lng            2888846\nCity                 2888846\nState                2888846\nTemperature(F)       2888846\nHumidity(%)          2888846\nVisibility(mi)       2888846\nWeather_Condition    2888846\ndtype: int64"
     },
     "metadata": {},
     "execution_count": 9
    }
   ],
   "source": [
    "accident_df_cleaned.count()"
   ]
  },
  {
   "cell_type": "code",
   "execution_count": 15,
   "metadata": {},
   "outputs": [
    {
     "output_type": "execute_result",
     "data": {
      "text/plain": "array(['OH', 'WV', 'CA', 'FL', 'GA', 'SC', 'NE', 'IA', 'IL', 'MO', 'WI',\n       'IN', 'MI', 'NJ', 'NY', 'CT', 'MA', 'RI', 'NH', 'PA', 'KY', 'MD',\n       'VA', 'DC', 'DE', 'TX', 'WA', 'OR', 'AL', 'NC', 'MN', 'OK', 'LA',\n       'TN', 'UT', 'CO', 'AZ', 'NV', 'KS', 'MS', 'NM', 'ME', 'AR', 'WY',\n       'VT', 'ID', 'ND', 'MT', 'SD'], dtype=object)"
     },
     "metadata": {},
     "execution_count": 15
    }
   ],
   "source": [
    "#states = df[\"State\"].unique()\n",
    "#data_by_state = []\n",
    "#for i in range(len(states)):\n",
    "    "
   ]
  },
  {
   "cell_type": "code",
   "execution_count": 10,
   "metadata": {},
   "outputs": [],
   "source": [
    "accident_df_OH = accident_df_cleaned.loc[df[\"State\"] == \"OH\"]\n",
    "accident_df_WV = accident_df_cleaned.loc[df[\"State\"] == \"WV\"]\n",
    "accident_df_CA = accident_df_cleaned.loc[df[\"State\"] == \"CA\"]\n",
    "accident_df_FL = accident_df_cleaned.loc[df[\"State\"] == \"FL\"]\n",
    "accident_df_GA = accident_df_cleaned.loc[df[\"State\"] == \"GA\"]\n",
    "accident_df_SC = accident_df_cleaned.loc[df[\"State\"] == \"SC\"]\n",
    "accident_df_NE = accident_df_cleaned.loc[df[\"State\"] == \"NE\"]\n",
    "accident_df_IA = accident_df_cleaned.loc[df[\"State\"] == \"IA\"]\n",
    "accident_df_IL = accident_df_cleaned.loc[df[\"State\"] == \"IL\"]\n",
    "accident_df_MO = accident_df_cleaned.loc[df[\"State\"] == \"MO\"]\n",
    "accident_df_WI = accident_df_cleaned.loc[df[\"State\"] == \"WI\"]\n",
    "accident_df_IN = accident_df_cleaned.loc[df[\"State\"] == \"IN\"]\n",
    "accident_df_MI = accident_df_cleaned.loc[df[\"State\"] == \"MI\"]\n",
    "accident_df_NJ = accident_df_cleaned.loc[df[\"State\"] == \"NJ\"]\n",
    "accident_df_NY = accident_df_cleaned.loc[df[\"State\"] == \"NY\"]\n",
    "accident_df_CT = accident_df_cleaned.loc[df[\"State\"] == \"CT\"]\n",
    "accident_df_MA = accident_df_cleaned.loc[df[\"State\"] == \"MA\"]\n",
    "accident_df_RI = accident_df_cleaned.loc[df[\"State\"] == \"RI\"]\n",
    "accident_df_NH = accident_df_cleaned.loc[df[\"State\"] == \"NH\"]\n",
    "accident_df_PA = accident_df_cleaned.loc[df[\"State\"] == \"PA\"]\n",
    "accident_df_KY = accident_df_cleaned.loc[df[\"State\"] == \"KY\"]\n",
    "accident_df_MD = accident_df_cleaned.loc[df[\"State\"] == \"MD\"]\n",
    "accident_df_VA = accident_df_cleaned.loc[df[\"State\"] == \"VA\"]\n",
    "accident_df_DC = accident_df_cleaned.loc[df[\"State\"] == \"DC\"]\n",
    "accident_df_DE = accident_df_cleaned.loc[df[\"State\"] == \"DE\"]\n",
    "accident_df_TX = accident_df_cleaned.loc[df[\"State\"] == \"TX\"]\n",
    "accident_df_WA = accident_df_cleaned.loc[df[\"State\"] == \"WA\"]\n",
    "accident_df_OR = accident_df_cleaned.loc[df[\"State\"] == \"OR\"]\n",
    "accident_df_AL = accident_df_cleaned.loc[df[\"State\"] == \"AL\"]\n",
    "accident_df_NC = accident_df_cleaned.loc[df[\"State\"] == \"NC\"]\n",
    "accident_df_MN = accident_df_cleaned.loc[df[\"State\"] == \"MN\"]\n",
    "accident_df_OK = accident_df_cleaned.loc[df[\"State\"] == \"OK\"]\n",
    "accident_df_LA = accident_df_cleaned.loc[df[\"State\"] == \"LA\"]\n",
    "accident_df_TN = accident_df_cleaned.loc[df[\"State\"] == \"TN\"]\n",
    "accident_df_UT = accident_df_cleaned.loc[df[\"State\"] == \"UT\"]\n",
    "accident_df_CO = accident_df_cleaned.loc[df[\"State\"] == \"CO\"]\n",
    "accident_df_AZ = accident_df_cleaned.loc[df[\"State\"] == \"AZ\"]\n",
    "accident_df_NV = accident_df_cleaned.loc[df[\"State\"] == \"NV\"]\n",
    "accident_df_KS = accident_df_cleaned.loc[df[\"State\"] == \"KS\"]\n",
    "accident_df_MS = accident_df_cleaned.loc[df[\"State\"] == \"MS\"]\n",
    "accident_df_NM = accident_df_cleaned.loc[df[\"State\"] == \"NM\"]\n",
    "accident_df_ME = accident_df_cleaned.loc[df[\"State\"] == \"ME\"]\n",
    "accident_df_AR = accident_df_cleaned.loc[df[\"State\"] == \"AR\"]\n",
    "accident_df_WY = accident_df_cleaned.loc[df[\"State\"] == \"WY\"]\n",
    "accident_df_VT = accident_df_cleaned.loc[df[\"State\"] == \"VT\"]\n",
    "accident_df_ID = accident_df_cleaned.loc[df[\"State\"] == \"ID\"]\n",
    "accident_df_ND = accident_df_cleaned.loc[df[\"State\"] == \"ND\"]\n",
    "accident_df_MT = accident_df_cleaned.loc[df[\"State\"] == \"MT\"]\n",
    "accident_df_SD = accident_df_cleaned.loc[df[\"State\"] == \"SD\"]\n"
   ]
  },
  {
   "cell_type": "code",
   "execution_count": 11,
   "metadata": {},
   "outputs": [
    {
     "output_type": "execute_result",
     "data": {
      "text/plain": "    ID  Severity           Start_Time             End_Time  Start_Lat  \\\n0  A-1         3  2016-02-08 05:46:00  2016-02-08 11:00:00  39.865147   \n1  A-2         2  2016-02-08 06:07:59  2016-02-08 06:37:59  39.928059   \n2  A-3         2  2016-02-08 06:49:27  2016-02-08 07:19:27  39.063148   \n3  A-4         3  2016-02-08 07:23:34  2016-02-08 07:53:34  39.747753   \n4  A-5         2  2016-02-08 07:39:07  2016-02-08 08:09:07  39.627781   \n\n   Start_Lng          City State  Temperature(F)  Humidity(%)  Visibility(mi)  \\\n0 -84.058723        Dayton    OH            36.9         91.0            10.0   \n1 -82.831184  Reynoldsburg    OH            37.9        100.0            10.0   \n2 -84.032608  Williamsburg    OH            36.0        100.0            10.0   \n3 -84.205582        Dayton    OH            35.1         96.0             9.0   \n4 -84.188354        Dayton    OH            36.0         89.0             6.0   \n\n  Weather_Condition  \n0        Light Rain  \n1        Light Rain  \n2          Overcast  \n3     Mostly Cloudy  \n4     Mostly Cloudy  ",
      "text/html": "<div>\n<style scoped>\n    .dataframe tbody tr th:only-of-type {\n        vertical-align: middle;\n    }\n\n    .dataframe tbody tr th {\n        vertical-align: top;\n    }\n\n    .dataframe thead th {\n        text-align: right;\n    }\n</style>\n<table border=\"1\" class=\"dataframe\">\n  <thead>\n    <tr style=\"text-align: right;\">\n      <th></th>\n      <th>ID</th>\n      <th>Severity</th>\n      <th>Start_Time</th>\n      <th>End_Time</th>\n      <th>Start_Lat</th>\n      <th>Start_Lng</th>\n      <th>City</th>\n      <th>State</th>\n      <th>Temperature(F)</th>\n      <th>Humidity(%)</th>\n      <th>Visibility(mi)</th>\n      <th>Weather_Condition</th>\n    </tr>\n  </thead>\n  <tbody>\n    <tr>\n      <th>0</th>\n      <td>A-1</td>\n      <td>3</td>\n      <td>2016-02-08 05:46:00</td>\n      <td>2016-02-08 11:00:00</td>\n      <td>39.865147</td>\n      <td>-84.058723</td>\n      <td>Dayton</td>\n      <td>OH</td>\n      <td>36.9</td>\n      <td>91.0</td>\n      <td>10.0</td>\n      <td>Light Rain</td>\n    </tr>\n    <tr>\n      <th>1</th>\n      <td>A-2</td>\n      <td>2</td>\n      <td>2016-02-08 06:07:59</td>\n      <td>2016-02-08 06:37:59</td>\n      <td>39.928059</td>\n      <td>-82.831184</td>\n      <td>Reynoldsburg</td>\n      <td>OH</td>\n      <td>37.9</td>\n      <td>100.0</td>\n      <td>10.0</td>\n      <td>Light Rain</td>\n    </tr>\n    <tr>\n      <th>2</th>\n      <td>A-3</td>\n      <td>2</td>\n      <td>2016-02-08 06:49:27</td>\n      <td>2016-02-08 07:19:27</td>\n      <td>39.063148</td>\n      <td>-84.032608</td>\n      <td>Williamsburg</td>\n      <td>OH</td>\n      <td>36.0</td>\n      <td>100.0</td>\n      <td>10.0</td>\n      <td>Overcast</td>\n    </tr>\n    <tr>\n      <th>3</th>\n      <td>A-4</td>\n      <td>3</td>\n      <td>2016-02-08 07:23:34</td>\n      <td>2016-02-08 07:53:34</td>\n      <td>39.747753</td>\n      <td>-84.205582</td>\n      <td>Dayton</td>\n      <td>OH</td>\n      <td>35.1</td>\n      <td>96.0</td>\n      <td>9.0</td>\n      <td>Mostly Cloudy</td>\n    </tr>\n    <tr>\n      <th>4</th>\n      <td>A-5</td>\n      <td>2</td>\n      <td>2016-02-08 07:39:07</td>\n      <td>2016-02-08 08:09:07</td>\n      <td>39.627781</td>\n      <td>-84.188354</td>\n      <td>Dayton</td>\n      <td>OH</td>\n      <td>36.0</td>\n      <td>89.0</td>\n      <td>6.0</td>\n      <td>Mostly Cloudy</td>\n    </tr>\n  </tbody>\n</table>\n</div>"
     },
     "metadata": {},
     "execution_count": 11
    }
   ],
   "source": [
    "accident_df_OH.head()"
   ]
  },
  {
   "cell_type": "code",
   "execution_count": 12,
   "metadata": {},
   "outputs": [],
   "source": [
    "accident_df_OH.to_csv(\"../Resource/OH_accident.csv\", encoding=\"utf-8\", index=True)\n",
    "accident_df_WV.to_csv(\"../Resource/WA_accident.csv\", encoding=\"utf-8\", index=True)\n",
    "accident_df_CA.to_csv(\"../Resource/CA_accident.csv\", encoding=\"utf-8\", index=True)\n",
    "accident_df_FL.to_csv(\"../Resource/FL_accident.csv\", encoding=\"utf-8\", index=True)\n",
    "accident_df_GA.to_csv(\"../Resource/GA_accident.csv\", encoding=\"utf-8\", index=True)\n",
    "accident_df_SC.to_csv(\"../Resource/SC_accident.csv\", encoding=\"utf-8\", index=True)\n",
    "accident_df_NE.to_csv(\"../Resource/NE_accident.csv\", encoding=\"utf-8\", index=True)\n",
    "accident_df_IA.to_csv(\"../Resource/IA_accident.csv\", encoding=\"utf-8\", index=True)\n",
    "accident_df_IL.to_csv(\"../Resource/IL_accident.csv\", encoding=\"utf-8\", index=True)\n",
    "accident_df_MO.to_csv(\"../Resource/MO_accident.csv\", encoding=\"utf-8\", index=True)\n",
    "accident_df_WI.to_csv(\"../Resource/WI_accident.csv\", encoding=\"utf-8\", index=True)\n",
    "accident_df_IN.to_csv(\"../Resource/IN_accident.csv\", encoding=\"utf-8\", index=True)\n",
    "accident_df_MI.to_csv(\"../Resource/MI_accident.csv\", encoding=\"utf-8\", index=True)\n",
    "accident_df_NJ.to_csv(\"../Resource/NJ_accident.csv\", encoding=\"utf-8\", index=True)\n",
    "accident_df_NY.to_csv(\"../Resource/NY_accident.csv\", encoding=\"utf-8\", index=True)\n",
    "accident_df_CT.to_csv(\"../Resource/CT_accident.csv\", encoding=\"utf-8\", index=True)\n",
    "accident_df_MA.to_csv(\"../Resource/MA_accident.csv\", encoding=\"utf-8\", index=True)\n",
    "accident_df_RI.to_csv(\"../Resource/RI_accident.csv\", encoding=\"utf-8\", index=True)\n",
    "accident_df_NH.to_csv(\"../Resource/NH_accident.csv\", encoding=\"utf-8\", index=True)\n",
    "accident_df_PA.to_csv(\"../Resource/PA_accident.csv\", encoding=\"utf-8\", index=True)\n",
    "accident_df_KY.to_csv(\"../Resource/KY_accident.csv\", encoding=\"utf-8\", index=True)\n",
    "accident_df_MD.to_csv(\"../Resource/MD_accident.csv\", encoding=\"utf-8\", index=True)\n",
    "accident_df_VA.to_csv(\"../Resource/VA_accident.csv\", encoding=\"utf-8\", index=True)\n",
    "accident_df_DC.to_csv(\"../Resource/DC_accident.csv\", encoding=\"utf-8\", index=True)\n",
    "accident_df_DE.to_csv(\"../Resource/DE_accident.csv\", encoding=\"utf-8\", index=True)\n",
    "accident_df_TX.to_csv(\"../Resource/TX_accident.csv\", encoding=\"utf-8\", index=True)\n",
    "accident_df_WA.to_csv(\"../Resource/WA_accident.csv\", encoding=\"utf-8\", index=True)\n",
    "accident_df_OR.to_csv(\"../Resource/OR_accident.csv\", encoding=\"utf-8\", index=True)\n",
    "accident_df_AL.to_csv(\"../Resource/AL_accident.csv\", encoding=\"utf-8\", index=True)\n",
    "accident_df_NC.to_csv(\"../Resource/NC_accident.csv\", encoding=\"utf-8\", index=True)\n",
    "accident_df_MN.to_csv(\"../Resource/MN_accident.csv\", encoding=\"utf-8\", index=True)\n",
    "accident_df_OK.to_csv(\"../Resource/OK_accident.csv\", encoding=\"utf-8\", index=True)\n",
    "accident_df_LA.to_csv(\"../Resource/LA_accident.csv\", encoding=\"utf-8\", index=True)\n",
    "accident_df_TN.to_csv(\"../Resource/TN_accident.csv\", encoding=\"utf-8\", index=True)\n",
    "accident_df_UT.to_csv(\"../Resource/UT_accident.csv\", encoding=\"utf-8\", index=True)\n",
    "accident_df_CO.to_csv(\"../Resource/CO_accident.csv\", encoding=\"utf-8\", index=True)\n",
    "accident_df_AZ.to_csv(\"../Resource/AZ_accident.csv\", encoding=\"utf-8\", index=True)\n",
    "accident_df_NV.to_csv(\"../Resource/NV_accident.csv\", encoding=\"utf-8\", index=True)\n",
    "accident_df_KS.to_csv(\"../Resource/KS_accident.csv\", encoding=\"utf-8\", index=True)\n",
    "accident_df_MS.to_csv(\"../Resource/MS_accident.csv\", encoding=\"utf-8\", index=True)\n",
    "accident_df_NM.to_csv(\"../Resource/NM_accident.csv\", encoding=\"utf-8\", index=True)\n",
    "accident_df_ME.to_csv(\"../Resource/ME_accident.csv\", encoding=\"utf-8\", index=True)\n",
    "accident_df_AR.to_csv(\"../Resource/AR_accident.csv\", encoding=\"utf-8\", index=True)\n",
    "accident_df_WY.to_csv(\"../Resource/WY_accident.csv\", encoding=\"utf-8\", index=True)\n",
    "accident_df_VT.to_csv(\"../Resource/VT_accident.csv\", encoding=\"utf-8\", index=True)\n",
    "accident_df_ID.to_csv(\"../Resource/ID_accident.csv\", encoding=\"utf-8\", index=True)\n",
    "accident_df_ND.to_csv(\"../Resource/NM_accident.csv\", encoding=\"utf-8\", index=True)\n",
    "accident_df_MT.to_csv(\"../Resource/MT_accident.csv\", encoding=\"utf-8\", index=True)\n",
    "accident_df_SD.to_csv(\"../Resource/SD_accident.csv\", encoding=\"utf-8\", index=True)"
   ]
  },
  {
   "cell_type": "code",
   "execution_count": null,
   "metadata": {},
   "outputs": [],
   "source": []
  },
  {
   "cell_type": "code",
   "execution_count": null,
   "metadata": {},
   "outputs": [],
   "source": []
  }
 ],
 "metadata": {
  "language_info": {
   "codemirror_mode": {
    "name": "ipython",
    "version": 3
   },
   "file_extension": ".py",
   "mimetype": "text/x-python",
   "name": "python",
   "nbconvert_exporter": "python",
   "pygments_lexer": "ipython3",
   "version": "3.7.7-final"
  },
  "orig_nbformat": 2,
  "kernelspec": {
   "name": "python37764bitpythondataconda58c3617d3eed445b80043e5831324c4d",
   "display_name": "Python 3.7.7 64-bit ('PythonData': conda)"
  }
 },
 "nbformat": 4,
 "nbformat_minor": 2
}