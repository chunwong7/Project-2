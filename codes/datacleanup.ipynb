{
 "cells": [
  {
   "cell_type": "code",
   "execution_count": 1,
   "metadata": {},
   "outputs": [],
   "source": [
    "#import dependencies\n",
    "\n",
    "import pandas as pd \n",
    "import csv \n",
    "import numpy as np"
   ]
  },
  {
   "cell_type": "code",
   "execution_count": 2,
   "metadata": {},
   "outputs": [
    {
     "output_type": "execute_result",
     "data": {
      "text/plain": "    ID    Source    TMC  Severity           Start_Time             End_Time  \\\n0  A-1  MapQuest  201.0         3  2016-02-08 05:46:00  2016-02-08 11:00:00   \n1  A-2  MapQuest  201.0         2  2016-02-08 06:07:59  2016-02-08 06:37:59   \n2  A-3  MapQuest  201.0         2  2016-02-08 06:49:27  2016-02-08 07:19:27   \n3  A-4  MapQuest  201.0         3  2016-02-08 07:23:34  2016-02-08 07:53:34   \n4  A-5  MapQuest  201.0         2  2016-02-08 07:39:07  2016-02-08 08:09:07   \n\n   Start_Lat  Start_Lng  End_Lat  End_Lng  ...  Roundabout Station   Stop  \\\n0  39.865147 -84.058723      NaN      NaN  ...       False   False  False   \n1  39.928059 -82.831184      NaN      NaN  ...       False   False  False   \n2  39.063148 -84.032608      NaN      NaN  ...       False   False  False   \n3  39.747753 -84.205582      NaN      NaN  ...       False   False  False   \n4  39.627781 -84.188354      NaN      NaN  ...       False   False  False   \n\n  Traffic_Calming Traffic_Signal Turning_Loop Sunrise_Sunset Civil_Twilight  \\\n0           False          False        False          Night          Night   \n1           False          False        False          Night          Night   \n2           False           True        False          Night          Night   \n3           False          False        False          Night            Day   \n4           False           True        False            Day            Day   \n\n  Nautical_Twilight Astronomical_Twilight  \n0             Night                 Night  \n1             Night                   Day  \n2               Day                   Day  \n3               Day                   Day  \n4               Day                   Day  \n\n[5 rows x 49 columns]",
      "text/html": "<div>\n<style scoped>\n    .dataframe tbody tr th:only-of-type {\n        vertical-align: middle;\n    }\n\n    .dataframe tbody tr th {\n        vertical-align: top;\n    }\n\n    .dataframe thead th {\n        text-align: right;\n    }\n</style>\n<table border=\"1\" class=\"dataframe\">\n  <thead>\n    <tr style=\"text-align: right;\">\n      <th></th>\n      <th>ID</th>\n      <th>Source</th>\n      <th>TMC</th>\n      <th>Severity</th>\n      <th>Start_Time</th>\n      <th>End_Time</th>\n      <th>Start_Lat</th>\n      <th>Start_Lng</th>\n      <th>End_Lat</th>\n      <th>End_Lng</th>\n      <th>...</th>\n      <th>Roundabout</th>\n      <th>Station</th>\n      <th>Stop</th>\n      <th>Traffic_Calming</th>\n      <th>Traffic_Signal</th>\n      <th>Turning_Loop</th>\n      <th>Sunrise_Sunset</th>\n      <th>Civil_Twilight</th>\n      <th>Nautical_Twilight</th>\n      <th>Astronomical_Twilight</th>\n    </tr>\n  </thead>\n  <tbody>\n    <tr>\n      <th>0</th>\n      <td>A-1</td>\n      <td>MapQuest</td>\n      <td>201.0</td>\n      <td>3</td>\n      <td>2016-02-08 05:46:00</td>\n      <td>2016-02-08 11:00:00</td>\n      <td>39.865147</td>\n      <td>-84.058723</td>\n      <td>NaN</td>\n      <td>NaN</td>\n      <td>...</td>\n      <td>False</td>\n      <td>False</td>\n      <td>False</td>\n      <td>False</td>\n      <td>False</td>\n      <td>False</td>\n      <td>Night</td>\n      <td>Night</td>\n      <td>Night</td>\n      <td>Night</td>\n    </tr>\n    <tr>\n      <th>1</th>\n      <td>A-2</td>\n      <td>MapQuest</td>\n      <td>201.0</td>\n      <td>2</td>\n      <td>2016-02-08 06:07:59</td>\n      <td>2016-02-08 06:37:59</td>\n      <td>39.928059</td>\n      <td>-82.831184</td>\n      <td>NaN</td>\n      <td>NaN</td>\n      <td>...</td>\n      <td>False</td>\n      <td>False</td>\n      <td>False</td>\n      <td>False</td>\n      <td>False</td>\n      <td>False</td>\n      <td>Night</td>\n      <td>Night</td>\n      <td>Night</td>\n      <td>Day</td>\n    </tr>\n    <tr>\n      <th>2</th>\n      <td>A-3</td>\n      <td>MapQuest</td>\n      <td>201.0</td>\n      <td>2</td>\n      <td>2016-02-08 06:49:27</td>\n      <td>2016-02-08 07:19:27</td>\n      <td>39.063148</td>\n      <td>-84.032608</td>\n      <td>NaN</td>\n      <td>NaN</td>\n      <td>...</td>\n      <td>False</td>\n      <td>False</td>\n      <td>False</td>\n      <td>False</td>\n      <td>True</td>\n      <td>False</td>\n      <td>Night</td>\n      <td>Night</td>\n      <td>Day</td>\n      <td>Day</td>\n    </tr>\n    <tr>\n      <th>3</th>\n      <td>A-4</td>\n      <td>MapQuest</td>\n      <td>201.0</td>\n      <td>3</td>\n      <td>2016-02-08 07:23:34</td>\n      <td>2016-02-08 07:53:34</td>\n      <td>39.747753</td>\n      <td>-84.205582</td>\n      <td>NaN</td>\n      <td>NaN</td>\n      <td>...</td>\n      <td>False</td>\n      <td>False</td>\n      <td>False</td>\n      <td>False</td>\n      <td>False</td>\n      <td>False</td>\n      <td>Night</td>\n      <td>Day</td>\n      <td>Day</td>\n      <td>Day</td>\n    </tr>\n    <tr>\n      <th>4</th>\n      <td>A-5</td>\n      <td>MapQuest</td>\n      <td>201.0</td>\n      <td>2</td>\n      <td>2016-02-08 07:39:07</td>\n      <td>2016-02-08 08:09:07</td>\n      <td>39.627781</td>\n      <td>-84.188354</td>\n      <td>NaN</td>\n      <td>NaN</td>\n      <td>...</td>\n      <td>False</td>\n      <td>False</td>\n      <td>False</td>\n      <td>False</td>\n      <td>True</td>\n      <td>False</td>\n      <td>Day</td>\n      <td>Day</td>\n      <td>Day</td>\n      <td>Day</td>\n    </tr>\n  </tbody>\n</table>\n<p>5 rows × 49 columns</p>\n</div>"
     },
     "metadata": {},
     "execution_count": 2
    }
   ],
   "source": [
    "#website for the data is https://www.kaggle.com/sobhanmoosavi/us-accidents\n",
    "#original source file is not stored in the repo because it is too large\n",
    "file = \"../resource/US_Accidents_Dec19.csv\"\n",
    "#load in csv and saving it as df\n",
    "df = pd.read_csv(file)\n",
    "df.head()"
   ]
  },
  {
   "cell_type": "code",
   "execution_count": 15,
   "metadata": {},
   "outputs": [],
   "source": [
    "#removing data we don't need\n",
    "mainColumns = [\"ID\", \"Severity\", \"Start_Time\", \"Start_Lat\", \"Start_Lng\", \n",
    "\"City\", \"State\", \"Temperature(F)\", \"Humidity(%)\", \"Visibility(mi)\", \"Wind_Speed(mph)\", \"Weather_Condition\"]\n",
    "main_df = df[mainColumns]"
   ]
  },
  {
   "cell_type": "code",
   "execution_count": 16,
   "metadata": {},
   "outputs": [
    {
     "output_type": "execute_result",
     "data": {
      "text/plain": "ID                   2508775\nSeverity             2508775\nStart_Time           2508775\nStart_Lat            2508775\nStart_Lng            2508775\nCity                 2508775\nState                2508775\nTemperature(F)       2508775\nHumidity(%)          2508775\nVisibility(mi)       2508775\nWind_Speed(mph)      2508775\nWeather_Condition    2508775\ndtype: int64"
     },
     "metadata": {},
     "execution_count": 16
    }
   ],
   "source": [
    "#deleting any row with missing data\n",
    "cleaned_df = main_df.dropna()\n",
    "cleaned_df.count()"
   ]
  },
  {
   "cell_type": "code",
   "execution_count": 5,
   "metadata": {},
   "outputs": [],
   "source": [
    "#split up the data by accidents information and weather conditions, and save as two separate df\n",
    "weatherColumns = [\"ID\", \"Temperature(F)\", \"Humidity(%)\", \"Visibility(mi)\", \"Wind_Speed(mph)\", \"Weather_Condition\"]\n",
    "weather_df = cleaned_df[weatherColumns]"
   ]
  },
  {
   "cell_type": "code",
   "execution_count": 17,
   "metadata": {},
   "outputs": [],
   "source": [
    "accidentsColumns = [\"ID\", \"Severity\", \"Start_Time\", \"Start_Lat\", \"Start_Lng\", \n",
    "\"City\", \"State\"]\n",
    "accident_df = cleaned_df[accidentsColumns]"
   ]
  },
  {
   "cell_type": "code",
   "execution_count": 24,
   "metadata": {},
   "outputs": [],
   "source": [
    "#accident_df.head()\n",
    "accident_df_renamed = accident_df.rename(columns={\"Start_Time\":\"Time\", \"Start_Lat\":\"Lat\", \"Start_Lng\":\"Lng\"})"
   ]
  },
  {
   "cell_type": "code",
   "execution_count": 25,
   "metadata": {},
   "outputs": [
    {
     "output_type": "execute_result",
     "data": {
      "text/plain": "    ID  Severity                 Time        Lat        Lng          City  \\\n2  A-3         2  2016-02-08 06:49:27  39.063148 -84.032608  Williamsburg   \n3  A-4         3  2016-02-08 07:23:34  39.747753 -84.205582        Dayton   \n4  A-5         2  2016-02-08 07:39:07  39.627781 -84.188354        Dayton   \n5  A-6         3  2016-02-08 07:44:26  40.100590 -82.925194   Westerville   \n6  A-7         2  2016-02-08 07:59:35  39.758274 -84.230507        Dayton   \n\n  State  \n2    OH  \n3    OH  \n4    OH  \n5    OH  \n6    OH  ",
      "text/html": "<div>\n<style scoped>\n    .dataframe tbody tr th:only-of-type {\n        vertical-align: middle;\n    }\n\n    .dataframe tbody tr th {\n        vertical-align: top;\n    }\n\n    .dataframe thead th {\n        text-align: right;\n    }\n</style>\n<table border=\"1\" class=\"dataframe\">\n  <thead>\n    <tr style=\"text-align: right;\">\n      <th></th>\n      <th>ID</th>\n      <th>Severity</th>\n      <th>Time</th>\n      <th>Lat</th>\n      <th>Lng</th>\n      <th>City</th>\n      <th>State</th>\n    </tr>\n  </thead>\n  <tbody>\n    <tr>\n      <th>2</th>\n      <td>A-3</td>\n      <td>2</td>\n      <td>2016-02-08 06:49:27</td>\n      <td>39.063148</td>\n      <td>-84.032608</td>\n      <td>Williamsburg</td>\n      <td>OH</td>\n    </tr>\n    <tr>\n      <th>3</th>\n      <td>A-4</td>\n      <td>3</td>\n      <td>2016-02-08 07:23:34</td>\n      <td>39.747753</td>\n      <td>-84.205582</td>\n      <td>Dayton</td>\n      <td>OH</td>\n    </tr>\n    <tr>\n      <th>4</th>\n      <td>A-5</td>\n      <td>2</td>\n      <td>2016-02-08 07:39:07</td>\n      <td>39.627781</td>\n      <td>-84.188354</td>\n      <td>Dayton</td>\n      <td>OH</td>\n    </tr>\n    <tr>\n      <th>5</th>\n      <td>A-6</td>\n      <td>3</td>\n      <td>2016-02-08 07:44:26</td>\n      <td>40.100590</td>\n      <td>-82.925194</td>\n      <td>Westerville</td>\n      <td>OH</td>\n    </tr>\n    <tr>\n      <th>6</th>\n      <td>A-7</td>\n      <td>2</td>\n      <td>2016-02-08 07:59:35</td>\n      <td>39.758274</td>\n      <td>-84.230507</td>\n      <td>Dayton</td>\n      <td>OH</td>\n    </tr>\n  </tbody>\n</table>\n</div>"
     },
     "metadata": {},
     "execution_count": 25
    }
   ],
   "source": [
    "accident_df_renamed.head()"
   ]
  },
  {
   "cell_type": "code",
   "execution_count": 6,
   "metadata": {},
   "outputs": [
    {
     "output_type": "execute_result",
     "data": {
      "text/plain": "     Temperature(F)  Humidity(%)  Visibility(mi)  Wind_Speed(mph)  \\\nID                                                                  \nA-3            36.0        100.0            10.0              3.5   \nA-4            35.1         96.0             9.0              4.6   \nA-5            36.0         89.0             6.0              3.5   \nA-6            37.9         97.0             7.0              3.5   \nA-7            34.0        100.0             7.0              3.5   \n\n    Weather_Condition  \nID                     \nA-3          Overcast  \nA-4     Mostly Cloudy  \nA-5     Mostly Cloudy  \nA-6        Light Rain  \nA-7          Overcast  ",
      "text/html": "<div>\n<style scoped>\n    .dataframe tbody tr th:only-of-type {\n        vertical-align: middle;\n    }\n\n    .dataframe tbody tr th {\n        vertical-align: top;\n    }\n\n    .dataframe thead th {\n        text-align: right;\n    }\n</style>\n<table border=\"1\" class=\"dataframe\">\n  <thead>\n    <tr style=\"text-align: right;\">\n      <th></th>\n      <th>Temperature(F)</th>\n      <th>Humidity(%)</th>\n      <th>Visibility(mi)</th>\n      <th>Wind_Speed(mph)</th>\n      <th>Weather_Condition</th>\n    </tr>\n    <tr>\n      <th>ID</th>\n      <th></th>\n      <th></th>\n      <th></th>\n      <th></th>\n      <th></th>\n    </tr>\n  </thead>\n  <tbody>\n    <tr>\n      <th>A-3</th>\n      <td>36.0</td>\n      <td>100.0</td>\n      <td>10.0</td>\n      <td>3.5</td>\n      <td>Overcast</td>\n    </tr>\n    <tr>\n      <th>A-4</th>\n      <td>35.1</td>\n      <td>96.0</td>\n      <td>9.0</td>\n      <td>4.6</td>\n      <td>Mostly Cloudy</td>\n    </tr>\n    <tr>\n      <th>A-5</th>\n      <td>36.0</td>\n      <td>89.0</td>\n      <td>6.0</td>\n      <td>3.5</td>\n      <td>Mostly Cloudy</td>\n    </tr>\n    <tr>\n      <th>A-6</th>\n      <td>37.9</td>\n      <td>97.0</td>\n      <td>7.0</td>\n      <td>3.5</td>\n      <td>Light Rain</td>\n    </tr>\n    <tr>\n      <th>A-7</th>\n      <td>34.0</td>\n      <td>100.0</td>\n      <td>7.0</td>\n      <td>3.5</td>\n      <td>Overcast</td>\n    </tr>\n  </tbody>\n</table>\n</div>"
     },
     "metadata": {},
     "execution_count": 6
    }
   ],
   "source": [
    "#setting the index of the weather df to the ID\n",
    "weather_df = weather_df.set_index(\"ID\")\n",
    "weather_df.head()"
   ]
  },
  {
   "cell_type": "code",
   "execution_count": 7,
   "metadata": {},
   "outputs": [],
   "source": [
    "#creating a copy of the weather_df in case data gets corrupted\n",
    "weather_df2 = weather_df"
   ]
  },
  {
   "cell_type": "code",
   "execution_count": 8,
   "metadata": {
    "tags": [
     "outputPrepend"
    ]
   },
   "outputs": [],
   "source": [
    "#there are over 100 different weather conditions and most are redundant.\n",
    "#the weather conditions are grouped into 10 distinct catagories manually\n",
    "weather_df2[\"Weather_Condition\"] = weather_df2[\"Weather_Condition\"].replace(\"Fair\", \"Clear\")\n",
    "weather_df2[\"Weather_Condition\"] = weather_df2[\"Weather_Condition\"].replace(\"Fair / Windy\", \"Clear\")\n",
    "weather_df2[\"Weather_Condition\"] = weather_df2[\"Weather_Condition\"].replace(\"N/A Precipitation\", \"Clear\")\n",
    "\n",
    "weather_df2[\"Weather_Condition\"] = weather_df2[\"Weather_Condition\"].replace(\"Light Haze\", \"Haze\")\n",
    "weather_df2[\"Weather_Condition\"] = weather_df2[\"Weather_Condition\"].replace(\"Smoke\", \"Haze\")\n",
    "weather_df2[\"Weather_Condition\"] = weather_df2[\"Weather_Condition\"].replace(\"Blowing Sand\", \"Haze\")\n",
    "weather_df2[\"Weather_Condition\"] = weather_df2[\"Weather_Condition\"].replace(\"Blowing Sand / Windy\", \"Haze\")\n",
    "weather_df2[\"Weather_Condition\"] = weather_df2[\"Weather_Condition\"].replace(\"Widespread Dust\", \"Haze\")\n",
    "\n",
    "weather_df2[\"Weather_Condition\"] = weather_df2[\"Weather_Condition\"].replace(\"Light Snow\", \"Snow\")\n",
    "weather_df2[\"Weather_Condition\"] = weather_df2[\"Weather_Condition\"].replace(\"Blowing Snow\", \"Snow\")\n",
    "weather_df2[\"Weather_Condition\"] = weather_df2[\"Weather_Condition\"].replace(\"Heavy Snow\", \"Snow\")\n",
    "weather_df2[\"Weather_Condition\"] = weather_df2[\"Weather_Condition\"].replace(\"Low Drifting Snow\", \"Snow\")\n",
    "weather_df2[\"Weather_Condition\"] = weather_df2[\"Weather_Condition\"].replace(\"Snow / Windy\", \"Snow\")\n",
    "weather_df2[\"Weather_Condition\"] = weather_df2[\"Weather_Condition\"].replace(\"Snow and Sleet\", \"Snow\")\n",
    "weather_df2[\"Weather_Condition\"] = weather_df2[\"Weather_Condition\"].replace(\"Sleet\", \"Snow\")\n",
    "weather_df2[\"Weather_Condition\"] = weather_df2[\"Weather_Condition\"].replace(\"Snow Showers\", \"Snow\")\n",
    "weather_df2[\"Weather_Condition\"] = weather_df2[\"Weather_Condition\"].replace(\"Light Sleet\", \"Snow\")\n",
    "weather_df2[\"Weather_Condition\"] = weather_df2[\"Weather_Condition\"].replace(\"Heavy Sleet\", \"Snow\")\n",
    "weather_df2[\"Weather_Condition\"] = weather_df2[\"Weather_Condition\"].replace(\"Wintry Mix / Windy\", \"Snow\")\n",
    "weather_df2[\"Weather_Condition\"] = weather_df2[\"Weather_Condition\"].replace(\"Light Snow Shower\", \"Snow\")\n",
    "weather_df2[\"Weather_Condition\"] = weather_df2[\"Weather_Condition\"].replace(\"Heavy Snow / Windy\", \"Snow\")\n",
    "weather_df2[\"Weather_Condition\"] = weather_df2[\"Weather_Condition\"].replace(\"Light Snow and Sleet\", \"Snow\")\n",
    "weather_df2[\"Weather_Condition\"] = weather_df2[\"Weather_Condition\"].replace(\"Light Snow Grains\", \"Snow\")\n",
    "weather_df2[\"Weather_Condition\"] = weather_df2[\"Weather_Condition\"].replace(\"Squalls / Windy\", \"Snow\")\n",
    "weather_df2[\"Weather_Condition\"] = weather_df2[\"Weather_Condition\"].replace(\"Squalls\", \"Snow\")\n",
    "weather_df2[\"Weather_Condition\"] = weather_df2[\"Weather_Condition\"].replace(\"Light Snow with Thunder\", \"Snow\")\n",
    "weather_df2[\"Weather_Condition\"] = weather_df2[\"Weather_Condition\"].replace(\"Blowing Snow / Windy\", \"Snow\")\n",
    "weather_df2[\"Weather_Condition\"] = weather_df2[\"Weather_Condition\"].replace(\"Light Snow and Sleet / Windy\", \"Snow\")\n",
    "weather_df2[\"Weather_Condition\"] = weather_df2[\"Weather_Condition\"].replace(\"Snow and Thunder\", \"Snow\")\n",
    "weather_df2[\"Weather_Condition\"] = weather_df2[\"Weather_Condition\"].replace(\"Snow and Sleet / Windy\", \"Snow\")\n",
    "weather_df2[\"Weather_Condition\"] = weather_df2[\"Weather_Condition\"].replace(\"Heavy Snow with Thunder\", \"Snow\")\n",
    "weather_df2[\"Weather_Condition\"] = weather_df2[\"Weather_Condition\"].replace(\"Thunder / Wintry Mix / Windy\", \"Snow\")\n",
    "weather_df2[\"Weather_Condition\"] = weather_df2[\"Weather_Condition\"].replace(\"Light Snow Showers\", \"Snow\")\n",
    "weather_df2[\"Weather_Condition\"] = weather_df2[\"Weather_Condition\"].replace(\"Heavy Blowing Snow\", \"Snow\")\n",
    "weather_df2[\"Weather_Condition\"] = weather_df2[\"Weather_Condition\"].replace(\"Light Blowing Snow\", \"Snow\")\n",
    "weather_df2[\"Weather_Condition\"] = weather_df2[\"Weather_Condition\"].replace(\"Thunderstorms and Snow\", \"Snow\")\n",
    "weather_df2[\"Weather_Condition\"] = weather_df2[\"Weather_Condition\"].replace(\"Wintry Mix\", \"Snow\")\n",
    "weather_df2[\"Weather_Condition\"] = weather_df2[\"Weather_Condition\"].replace(\"Snow Grains\", \"Snow\")\n",
    "weather_df2[\"Weather_Condition\"] = weather_df2[\"Weather_Condition\"].replace(\"Light Snow / Windy\", \"Snow\")\n",
    "\n",
    "weather_df2[\"Weather_Condition\"] = weather_df2[\"Weather_Condition\"].replace(\"Light Rain\", \"Rain\")\n",
    "weather_df2[\"Weather_Condition\"] = weather_df2[\"Weather_Condition\"].replace(\"Light Drizzle\", \"Rain\")\n",
    "weather_df2[\"Weather_Condition\"] = weather_df2[\"Weather_Condition\"].replace(\"Light Showers\", \"Rain\")\n",
    "weather_df2[\"Weather_Condition\"] = weather_df2[\"Weather_Condition\"].replace(\"Drizzle\", \"Rain\")\n",
    "weather_df2[\"Weather_Condition\"] = weather_df2[\"Weather_Condition\"].replace(\"Heavy Drizzle\", \"Rain\")\n",
    "weather_df2[\"Weather_Condition\"] = weather_df2[\"Weather_Condition\"].replace(\"Light Rain / Windy\", \"Rain\")\n",
    "weather_df2[\"Weather_Condition\"] = weather_df2[\"Weather_Condition\"].replace(\"Rain Showers\", \"Rain\")\n",
    "weather_df2[\"Weather_Condition\"] = weather_df2[\"Weather_Condition\"].replace(\"Light Thunderstorm and Rain\", \"Rain\")\n",
    "weather_df2[\"Weather_Condition\"] = weather_df2[\"Weather_Condition\"].replace(\"Showers in the Vicinity\", \"Rain\")\n",
    "weather_df2[\"Weather_Condition\"] = weather_df2[\"Weather_Condition\"].replace(\"Light Rain Shower\", \"Rain\")\n",
    "weather_df2[\"Weather_Condition\"] = weather_df2[\"Weather_Condition\"].replace(\"Light Rain with Thunder\", \"Rain\")\n",
    "weather_df2[\"Weather_Condition\"] = weather_df2[\"Weather_Condition\"].replace(\"Drizzle and Fog\", \"Rain\")\n",
    "weather_df2[\"Weather_Condition\"] = weather_df2[\"Weather_Condition\"].replace(\"Light Rain Showers\", \"Rain\")\n",
    "weather_df2[\"Weather_Condition\"] = weather_df2[\"Weather_Condition\"].replace(\"Rain / Windy\", \"Rain\")\n",
    "weather_df2[\"Weather_Condition\"] = weather_df2[\"Weather_Condition\"].replace(\"Heavy Rain Showers\", \"Rain\")\n",
    "weather_df2[\"Weather_Condition\"] = weather_df2[\"Weather_Condition\"].replace(\"Light Drizzle / Windy\", \"Rain\")\n",
    "weather_df2[\"Weather_Condition\"] = weather_df2[\"Weather_Condition\"].replace(\"Light Rain Shower / Windy\", \"Rain\")\n",
    "weather_df2[\"Weather_Condition\"] = weather_df2[\"Weather_Condition\"].replace(\"Drizzle / Windy\", \"Rain\")\n",
    "weather_df2[\"Weather_Condition\"] = weather_df2[\"Weather_Condition\"].replace(\"Rain Shower\", \"Rain\")\n",
    "\n",
    "weather_df2[\"Weather_Condition\"] = weather_df2[\"Weather_Condition\"].replace(\"Shallow Fog\", \"Fog\")\n",
    "weather_df2[\"Weather_Condition\"] = weather_df2[\"Weather_Condition\"].replace(\"Patches of Fog\", \"Fog\")\n",
    "weather_df2[\"Weather_Condition\"] = weather_df2[\"Weather_Condition\"].replace(\"Light Freezing Fog\", \"Fog\")\n",
    "weather_df2[\"Weather_Condition\"] = weather_df2[\"Weather_Condition\"].replace(\"Mist\", \"Fog\")\n",
    "weather_df2[\"Weather_Condition\"] = weather_df2[\"Weather_Condition\"].replace(\"Blowing Dust / Windy\", \"Fog\")\n",
    "weather_df2[\"Weather_Condition\"] = weather_df2[\"Weather_Condition\"].replace(\"Light Fog\", \"Fog\")\n",
    "weather_df2[\"Weather_Condition\"] = weather_df2[\"Weather_Condition\"].replace(\"Fog / Windy\", \"Fog\")\n",
    "weather_df2[\"Weather_Condition\"] = weather_df2[\"Weather_Condition\"].replace(\"Haze / Windy\", \"Fog\")\n",
    "weather_df2[\"Weather_Condition\"] = weather_df2[\"Weather_Condition\"].replace(\"Sand / Dust Whirlwinds\", \"Fog\")\n",
    "weather_df2[\"Weather_Condition\"] = weather_df2[\"Weather_Condition\"].replace(\"Blowing Dust\", \"Fog\")\n",
    "weather_df2[\"Weather_Condition\"] = weather_df2[\"Weather_Condition\"].replace(\"Partial Fog / Windy\", \"Fog\")\n",
    "weather_df2[\"Weather_Condition\"] = weather_df2[\"Weather_Condition\"].replace(\"Partial Fog\", \"Fog\")\n",
    "weather_df2[\"Weather_Condition\"] = weather_df2[\"Weather_Condition\"].replace(\"Widespread Dust / Windy\", \"Fog\")\n",
    "weather_df2[\"Weather_Condition\"] = weather_df2[\"Weather_Condition\"].replace(\"Sand / Dust Whirlwinds / Windy\", \"Fog\")\n",
    "weather_df2[\"Weather_Condition\"] = weather_df2[\"Weather_Condition\"].replace(\"Smoke / Windy\", \"Fog\")\n",
    "weather_df2[\"Weather_Condition\"] = weather_df2[\"Weather_Condition\"].replace(\"Dust Whirls\", \"Fog\")\n",
    "\n",
    "weather_df2[\"Weather_Condition\"] = weather_df2[\"Weather_Condition\"].replace(\"Mostly Cloudy\", \"Overcast\")\n",
    "weather_df2[\"Weather_Condition\"] = weather_df2[\"Weather_Condition\"].replace(\"Scattered Clouds\", \"Overcast\")\n",
    "weather_df2[\"Weather_Condition\"] = weather_df2[\"Weather_Condition\"].replace(\"Partly Cloudy\", \"Overcast\")\n",
    "weather_df2[\"Weather_Condition\"] = weather_df2[\"Weather_Condition\"].replace(\"Cloudy\", \"Overcast\")\n",
    "weather_df2[\"Weather_Condition\"] = weather_df2[\"Weather_Condition\"].replace(\"Mostly Cloudy / Windy\", \"Overcast\")\n",
    "weather_df2[\"Weather_Condition\"] = weather_df2[\"Weather_Condition\"].replace(\"Partly Cloudy / Windy\", \"Overcast\")\n",
    "weather_df2[\"Weather_Condition\"] = weather_df2[\"Weather_Condition\"].replace(\"Funnel Cloud\", \"Overcast\")\n",
    "weather_df2[\"Weather_Condition\"] = weather_df2[\"Weather_Condition\"].replace(\"Cloudy / Windy\", \"Overcast\")\n",
    "\n",
    "weather_df2[\"Weather_Condition\"] = weather_df2[\"Weather_Condition\"].replace(\"Light Freezing Drizzle\", \"Freezing Rain\")\n",
    "weather_df2[\"Weather_Condition\"] = weather_df2[\"Weather_Condition\"].replace(\"Light Freezing Rain\", \"Freezing Rain\")\n",
    "weather_df2[\"Weather_Condition\"] = weather_df2[\"Weather_Condition\"].replace(\"Heavy Freezing Rain\", \"Freezing Rain\")\n",
    "weather_df2[\"Weather_Condition\"] = weather_df2[\"Weather_Condition\"].replace(\"Light Freezing Rain / Windy\", \"Freezing Rain\")\n",
    "weather_df2[\"Weather_Condition\"] = weather_df2[\"Weather_Condition\"].replace(\"Heavy Freezing Drizzle\", \"Freezing Rain\")\n",
    "weather_df2[\"Weather_Condition\"] = weather_df2[\"Weather_Condition\"].replace(\"Freezing Rain / Windy\", \"Freezing Rain\")\n",
    "\n",
    "weather_df2[\"Weather_Condition\"] = weather_df2[\"Weather_Condition\"].replace(\"Light Ice Pellets\", \"Hail\")\n",
    "weather_df2[\"Weather_Condition\"] = weather_df2[\"Weather_Condition\"].replace(\"Ice Pellets\", \"Hail\")\n",
    "weather_df2[\"Weather_Condition\"] = weather_df2[\"Weather_Condition\"].replace(\"Heavy Ice Pellets\", \"Hail\")\n",
    "weather_df2[\"Weather_Condition\"] = weather_df2[\"Weather_Condition\"].replace(\"Small Hail\", \"Hail\")\n",
    "weather_df2[\"Weather_Condition\"] = weather_df2[\"Weather_Condition\"].replace(\"Light Hail\", \"Hail\")\n",
    "\n",
    "weather_df2[\"Weather_Condition\"] = weather_df2[\"Weather_Condition\"].replace(\"Thunderstorm and Rain\", \"Thunderstorm\")\n",
    "weather_df2[\"Weather_Condition\"] = weather_df2[\"Weather_Condition\"].replace(\"Heavy Rain\", \"Thunderstorm\")\n",
    "weather_df2[\"Weather_Condition\"] = weather_df2[\"Weather_Condition\"].replace(\"Light Thunderstorms and Rain\", \"Thunderstorm\")\n",
    "weather_df2[\"Weather_Condition\"] = weather_df2[\"Weather_Condition\"].replace(\"Thunderstorms and Rain\", \"Thunderstorm\")\n",
    "weather_df2[\"Weather_Condition\"] = weather_df2[\"Weather_Condition\"].replace(\"Thunder in the Vicinity\", \"Thunderstorm\")\n",
    "weather_df2[\"Weather_Condition\"] = weather_df2[\"Weather_Condition\"].replace(\"T-Storm\", \"Thunderstorm\")\n",
    "weather_df2[\"Weather_Condition\"] = weather_df2[\"Weather_Condition\"].replace(\"Heavy Thunderstorms and Rain\", \"Thunderstorm\")\n",
    "weather_df2[\"Weather_Condition\"] = weather_df2[\"Weather_Condition\"].replace(\"Thunder\", \"Thunderstorm\")\n",
    "weather_df2[\"Weather_Condition\"] = weather_df2[\"Weather_Condition\"].replace(\"Heavy T-Storm\", \"Thunderstorm\")\n",
    "weather_df2[\"Weather_Condition\"] = weather_df2[\"Weather_Condition\"].replace(\"Heavy T-Storm / Windy\", \"Thunderstorm\")\n",
    "weather_df2[\"Weather_Condition\"] = weather_df2[\"Weather_Condition\"].replace(\"Light Thunderstorms and Snow\", \"Thunderstorm\")\n",
    "weather_df2[\"Weather_Condition\"] = weather_df2[\"Weather_Condition\"].replace(\"Heavy Thunderstorms and Snow\", \"Thunderstorm\")\n",
    "weather_df2[\"Weather_Condition\"] = weather_df2[\"Weather_Condition\"].replace(\"T-Storm / Windy\", \"Thunderstorm\")\n",
    "weather_df2[\"Weather_Condition\"] = weather_df2[\"Weather_Condition\"].replace(\"Heavy Rain / Windy\", \"Thunderstorm\")\n",
    "weather_df2[\"Weather_Condition\"] = weather_df2[\"Weather_Condition\"].replace(\"Thunder / Windy\", \"Thunderstorm\")\n",
    "weather_df2[\"Weather_Condition\"] = weather_df2[\"Weather_Condition\"].replace(\"Heavy Thunderstorms with Small Hail\", \"Thunderstorm\")\n",
    "weather_df2[\"Weather_Condition\"] = weather_df2[\"Weather_Condition\"].replace(\"Light Thunderstorm\", \"Thunderstorm\")\n",
    "weather_df2[\"Weather_Condition\"] = weather_df2[\"Weather_Condition\"].replace(\"Thunder and Hail / Windy\", \"Thunderstorm\")\n"
   ]
  },
  {
   "cell_type": "code",
   "execution_count": 31,
   "metadata": {},
   "outputs": [
    {
     "output_type": "execute_result",
     "data": {
      "text/plain": "10"
     },
     "metadata": {},
     "execution_count": 31
    }
   ],
   "source": [
    "weather_conditions = weather_df2['Weather_Condition'].unique()\n",
    "len(weather_conditions2)"
   ]
  },
  {
   "cell_type": "code",
   "execution_count": 32,
   "metadata": {},
   "outputs": [
    {
     "output_type": "execute_result",
     "data": {
      "text/plain": "array(['Overcast', 'Rain', 'Snow', 'Haze', 'Clear', 'Freezing Rain',\n       'Fog', 'Thunderstorm', 'Hail', 'Tornado'], dtype=object)"
     },
     "metadata": {},
     "execution_count": 32
    }
   ],
   "source": [
    "weather_conditions"
   ]
  },
  {
   "cell_type": "code",
   "execution_count": 13,
   "metadata": {},
   "outputs": [],
   "source": [
    "#saving weather data as a csv\n",
    "weather_df2.to_csv(\"../resource/weather/weatherdata.csv\")"
   ]
  },
  {
   "cell_type": "code",
   "execution_count": 30,
   "metadata": {},
   "outputs": [
    {
     "output_type": "execute_result",
     "data": {
      "text/plain": "ID           object\nSeverity      int64\nTime         object\nLat         float64\nLng         float64\nCity         object\nState        object\ndtype: object"
     },
     "metadata": {},
     "execution_count": 30
    }
   ],
   "source": [
    "accident_df_renamed.dtypes"
   ]
  },
  {
   "cell_type": "code",
   "execution_count": 26,
   "metadata": {},
   "outputs": [],
   "source": [
    "states = accident_df_renamed[\"State\"].unique()\n",
    "data_by_state = {\n",
    "    'state': [],\n",
    "    'data': []\n",
    "}\n",
    "for i in range(len(states)):\n",
    "    data_by_state['state'].append(states[i])\n",
    "    state_df = accident_df_renamed.loc[df[\"State\"] == states[i]]\n",
    "    state_df = state_df.set_index('ID')\n",
    "    data_by_state['data'].append(state_df)\n",
    "    state_df.to_csv(f'../Resource/by_state/{states[i]}_accident.csv', encoding=\"utf-8\", index=True)\n",
    "\n",
    "\n"
   ]
  },
  {
   "cell_type": "code",
   "execution_count": 87,
   "metadata": {},
   "outputs": [],
   "source": [
    "for index, item in enumerate(states):\n",
    "    if item == 'SD':\n",
    "        location = index"
   ]
  }
 ],
 "metadata": {
  "language_info": {
   "codemirror_mode": {
    "name": "ipython",
    "version": 3
   },
   "file_extension": ".py",
   "mimetype": "text/x-python",
   "name": "python",
   "nbconvert_exporter": "python",
   "pygments_lexer": "ipython3",
   "version": "3.7.7-final"
  },
  "orig_nbformat": 2,
  "kernelspec": {
   "name": "python37764bitpythondataconda58c3617d3eed445b80043e5831324c4d",
   "display_name": "Python 3.7.7 64-bit ('PythonData': conda)"
  }
 },
 "nbformat": 4,
 "nbformat_minor": 2
}