{
 "cells": [
  {
   "cell_type": "code",
   "execution_count": 1,
   "metadata": {},
   "outputs": [],
   "source": [
    "# Import dependencies\n",
    "import pandas as pd"
   ]
  },
  {
   "cell_type": "code",
   "execution_count": 2,
   "metadata": {},
   "outputs": [],
   "source": [
    "# Load CSV file\n",
    "csv_file = pd.DataFrame(pd.read_csv(\"static/data/OH_accident.csv\", sep = \",\", header = 0, index_col = False))"
   ]
  },
  {
   "cell_type": "code",
   "execution_count": 3,
   "metadata": {},
   "outputs": [],
   "source": [
    "# Convert CSV file and save to JSON\n",
    "#csv_file.to_json(\"static/data/OH_test.json\", orient = \"records\", date_format = \"epoch\", double_precision = 10, force_ascii = True, date_unit = \"ms\", default_handler = None)"
   ]
  },
  {
   "cell_type": "code",
   "execution_count": 4,
   "metadata": {},
   "outputs": [
    {
     "output_type": "execute_result",
     "data": {
      "text/plain": "    ID  Severity           Start_Time             End_Time  Start_Lat  \\\n0  A-3         2  2016-02-08 06:49:27  2016-02-08 07:19:27  39.063148   \n1  A-4         3  2016-02-08 07:23:34  2016-02-08 07:53:34  39.747753   \n2  A-5         2  2016-02-08 07:39:07  2016-02-08 08:09:07  39.627781   \n3  A-6         3  2016-02-08 07:44:26  2016-02-08 08:14:26  40.100590   \n4  A-7         2  2016-02-08 07:59:35  2016-02-08 08:29:35  39.758274   \n\n   Start_Lng          City State  Temperature(F)  Humidity(%)  Visibility(mi)  \\\n0 -84.032608  Williamsburg    OH            36.0        100.0            10.0   \n1 -84.205582        Dayton    OH            35.1         96.0             9.0   \n2 -84.188354        Dayton    OH            36.0         89.0             6.0   \n3 -82.925194   Westerville    OH            37.9         97.0             7.0   \n4 -84.230507        Dayton    OH            34.0        100.0             7.0   \n\n   Wind_Speed(mph) Weather_Condition  \n0              3.5          Overcast  \n1              4.6          Overcast  \n2              3.5          Overcast  \n3              3.5              Rain  \n4              3.5          Overcast  ",
      "text/html": "<div>\n<style scoped>\n    .dataframe tbody tr th:only-of-type {\n        vertical-align: middle;\n    }\n\n    .dataframe tbody tr th {\n        vertical-align: top;\n    }\n\n    .dataframe thead th {\n        text-align: right;\n    }\n</style>\n<table border=\"1\" class=\"dataframe\">\n  <thead>\n    <tr style=\"text-align: right;\">\n      <th></th>\n      <th>ID</th>\n      <th>Severity</th>\n      <th>Start_Time</th>\n      <th>End_Time</th>\n      <th>Start_Lat</th>\n      <th>Start_Lng</th>\n      <th>City</th>\n      <th>State</th>\n      <th>Temperature(F)</th>\n      <th>Humidity(%)</th>\n      <th>Visibility(mi)</th>\n      <th>Wind_Speed(mph)</th>\n      <th>Weather_Condition</th>\n    </tr>\n  </thead>\n  <tbody>\n    <tr>\n      <th>0</th>\n      <td>A-3</td>\n      <td>2</td>\n      <td>2016-02-08 06:49:27</td>\n      <td>2016-02-08 07:19:27</td>\n      <td>39.063148</td>\n      <td>-84.032608</td>\n      <td>Williamsburg</td>\n      <td>OH</td>\n      <td>36.0</td>\n      <td>100.0</td>\n      <td>10.0</td>\n      <td>3.5</td>\n      <td>Overcast</td>\n    </tr>\n    <tr>\n      <th>1</th>\n      <td>A-4</td>\n      <td>3</td>\n      <td>2016-02-08 07:23:34</td>\n      <td>2016-02-08 07:53:34</td>\n      <td>39.747753</td>\n      <td>-84.205582</td>\n      <td>Dayton</td>\n      <td>OH</td>\n      <td>35.1</td>\n      <td>96.0</td>\n      <td>9.0</td>\n      <td>4.6</td>\n      <td>Overcast</td>\n    </tr>\n    <tr>\n      <th>2</th>\n      <td>A-5</td>\n      <td>2</td>\n      <td>2016-02-08 07:39:07</td>\n      <td>2016-02-08 08:09:07</td>\n      <td>39.627781</td>\n      <td>-84.188354</td>\n      <td>Dayton</td>\n      <td>OH</td>\n      <td>36.0</td>\n      <td>89.0</td>\n      <td>6.0</td>\n      <td>3.5</td>\n      <td>Overcast</td>\n    </tr>\n    <tr>\n      <th>3</th>\n      <td>A-6</td>\n      <td>3</td>\n      <td>2016-02-08 07:44:26</td>\n      <td>2016-02-08 08:14:26</td>\n      <td>40.100590</td>\n      <td>-82.925194</td>\n      <td>Westerville</td>\n      <td>OH</td>\n      <td>37.9</td>\n      <td>97.0</td>\n      <td>7.0</td>\n      <td>3.5</td>\n      <td>Rain</td>\n    </tr>\n    <tr>\n      <th>4</th>\n      <td>A-7</td>\n      <td>2</td>\n      <td>2016-02-08 07:59:35</td>\n      <td>2016-02-08 08:29:35</td>\n      <td>39.758274</td>\n      <td>-84.230507</td>\n      <td>Dayton</td>\n      <td>OH</td>\n      <td>34.0</td>\n      <td>100.0</td>\n      <td>7.0</td>\n      <td>3.5</td>\n      <td>Overcast</td>\n    </tr>\n  </tbody>\n</table>\n</div>"
     },
     "metadata": {},
     "execution_count": 4
    }
   ],
   "source": [
    "# verify that file loaded into dataframe\n",
    "csv_file.head()"
   ]
  },
  {
   "cell_type": "code",
   "execution_count": 5,
   "metadata": {},
   "outputs": [
    {
     "output_type": "execute_result",
     "data": {
      "text/plain": "array(['Overcast', 'Rain', 'Snow', 'Haze', 'Clear', 'Freezing Rain',\n       'Fog', 'Thunderstorm', 'Hail'], dtype=object)"
     },
     "metadata": {},
     "execution_count": 5
    }
   ],
   "source": [
    "# function to get Weather_Condition unique values to generate map layers\n",
    "\n",
    "csv_file[\"Weather_Condition\"].unique()"
   ]
  },
  {
   "cell_type": "code",
   "execution_count": null,
   "metadata": {},
   "outputs": [],
   "source": [
    "# end of file"
   ]
  }
 ],
 "metadata": {
  "language_info": {
   "codemirror_mode": {
    "name": "ipython",
    "version": 3
   },
   "file_extension": ".py",
   "mimetype": "text/x-python",
   "name": "python",
   "nbconvert_exporter": "python",
   "pygments_lexer": "ipython3",
   "version": "3.7.7-final"
  },
  "orig_nbformat": 2,
  "kernelspec": {
   "name": "python37464bitbasecondac6f1fed7da40427ba8d315f08c07b158",
   "display_name": "Python 3.7.4 64-bit ('base': conda)"
  }
 },
 "nbformat": 4,
 "nbformat_minor": 2
}